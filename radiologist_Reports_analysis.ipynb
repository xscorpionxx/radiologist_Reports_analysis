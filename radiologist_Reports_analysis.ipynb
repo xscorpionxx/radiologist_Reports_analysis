{
 "cells": [
  {
   "cell_type": "markdown",
   "metadata": {
    "id": "SvOH92N0_Fa-"
   },
   "source": [
    "1 -Get the data"
   ]
  },
  {
   "cell_type": "code",
   "execution_count": null,
   "metadata": {
    "colab": {
     "base_uri": "https://localhost:8080/"
    },
    "id": "kZ_aDL3j_HMq",
    "outputId": "e19d5835-4b10-4492-df4e-3a69ae197729"
   },
   "outputs": [],
   "source": [
    "! git clone https://github.com/amanchadha/coursera-ai-for-medicine-specialization.git"
   ]
  },
  {
   "cell_type": "markdown",
   "metadata": {
    "id": "IqDT1q4T_loX"
   },
   "source": [
    "2 - explore the data"
   ]
  },
  {
   "cell_type": "code",
   "execution_count": null,
   "metadata": {
    "colab": {
     "base_uri": "https://localhost:8080/"
    },
    "id": "hMPl7o2q_IoP",
    "outputId": "c9c51e29-67d6-49ed-eedb-7a2e5aaaba30"
   },
   "outputs": [],
   "source": [
    "# import libraries\n",
    "import pandas as pd\n",
    "import numpy as np\n",
    "import matplotlib.pyplot as plt\n",
    "import re\n",
    "import nltk\n",
    "from nltk.corpus import stopwords\n",
    "from nltk.stem import WordNetLemmatizer\n",
    "from nltk.stem.porter import PorterStemmer\n",
    "nltk.download('stopwords')\n",
    "nltk.download('wordnet')\n",
    "nltk.download('omw-1.4')\n",
    "from tensorflow import keras\n",
    "from tensorflow.keras.layers import Embedding\n",
    "from tensorflow.keras.preprocessing.sequence import pad_sequences\n",
    "from tensorflow.keras.models import Sequential\n",
    "from tensorflow.keras.preprocessing.text import one_hot\n",
    "from tensorflow.keras.layers import LSTM\n",
    "from tensorflow.keras.layers import Dense\n",
    "from tensorflow.keras.layers import Bidirectional"
   ]
  },
  {
   "cell_type": "code",
   "execution_count": null,
   "metadata": {
    "id": "aEN_kQUa_wmr"
   },
   "outputs": [],
   "source": [
    "data = pd.read_csv('stanford_report_test.csv' )"
   ]
  },
  {
   "cell_type": "code",
   "execution_count": null,
   "metadata": {
    "colab": {
     "base_uri": "https://localhost:8080/"
    },
    "id": "V8lgnMLg_2Dn",
    "outputId": "f730caf0-29cf-43f0-cdc1-f641d397af13"
   },
   "outputs": [],
   "source": [
    "data.shape"
   ]
  },
  {
   "cell_type": "code",
   "execution_count": null,
   "metadata": {
    "id": "kQon5yt8XJjY"
   },
   "outputs": [],
   "source": [
    "data = data.reset_index(drop=True)"
   ]
  },
  {
   "cell_type": "code",
   "execution_count": null,
   "metadata": {
    "colab": {
     "base_uri": "https://localhost:8080/",
     "height": 565
    },
    "id": "reMNAPWc_9uR",
    "outputId": "b8400886-3b85-49a3-c3cc-e29d098a9d64"
   },
   "outputs": [],
   "source": [
    "data.head(5)"
   ]
  },
  {
   "cell_type": "markdown",
   "metadata": {
    "id": "H8JqFkP-Cp9e"
   },
   "source": [
    " 3 - data cleaning"
   ]
  },
  {
   "cell_type": "code",
   "execution_count": null,
   "metadata": {
    "id": "By6V0IEa__gw"
   },
   "outputs": [],
   "source": [
    "# first we will retain useful features in the dataset\n",
    "data = data[['Report Impression','Cardiomegaly' ,'Lung Lesion' , 'Airspace Opacity' , \n",
    "            'Edema' , 'Consolidation' , 'Pneumonia' , 'Atelectasis' ,'Pneumothorax',\n",
    "             'Pleural Effusion' , 'Pleural Other' , 'Fracture' ]] "
   ]
  },
  {
   "cell_type": "code",
   "execution_count": null,
   "metadata": {
    "colab": {
     "base_uri": "https://localhost:8080/"
    },
    "id": "vGgl0D3VDnkN",
    "outputId": "35712efd-d12f-4275-c7b1-ef56e6a3b6ba"
   },
   "outputs": [],
   "source": [
    "data.shape"
   ]
  },
  {
   "cell_type": "code",
   "execution_count": null,
   "metadata": {
    "colab": {
     "base_uri": "https://localhost:8080/",
     "height": 548
    },
    "id": "LaA7kxMfDpZs",
    "outputId": "77f1202d-3774-4ce1-f4ee-f3026c07effb"
   },
   "outputs": [],
   "source": [
    "data.head(5)"
   ]
  },
  {
   "cell_type": "code",
   "execution_count": null,
   "metadata": {
    "colab": {
     "base_uri": "https://localhost:8080/"
    },
    "id": "SsNftlvxDrgI",
    "outputId": "fd965481-0db6-4916-e3d9-46f19f6cc29d"
   },
   "outputs": [],
   "source": [
    "# we will replace -1 values  and nan values with 0\n",
    "data.fillna(0.0 , inplace = True)\n",
    "data.replace(-1.0 , 0.0 ,inplace = True)"
   ]
  },
  {
   "cell_type": "code",
   "execution_count": null,
   "metadata": {
    "id": "gKXZuaSKEbRk"
   },
   "outputs": [],
   "source": [
    "unique_dic = {}\n",
    "for i in data.columns :\n",
    "  if i != 'Report Impression' :\n",
    "      unique_dic[i] = data[i].unique()"
   ]
  },
  {
   "cell_type": "code",
   "execution_count": null,
   "metadata": {
    "colab": {
     "base_uri": "https://localhost:8080/"
    },
    "id": "xAr-bZylE8PA",
    "outputId": "82762e3d-ce04-4e33-91cf-e3dc7ef427e5"
   },
   "outputs": [],
   "source": [
    "unique_dic"
   ]
  },
  {
   "cell_type": "code",
   "execution_count": null,
   "metadata": {
    "id": "MWIEw9KHGhY6"
   },
   "outputs": [],
   "source": [
    "categories = [i for i in data.columns if i != 'Report Impression']"
   ]
  },
  {
   "cell_type": "code",
   "execution_count": null,
   "metadata": {
    "colab": {
     "base_uri": "https://localhost:8080/"
    },
    "id": "1ZIVYu-hGvKg",
    "outputId": "51c6659e-ebe9-42b7-c6dc-d03347d56c7a"
   },
   "outputs": [],
   "source": [
    "categories"
   ]
  },
  {
   "cell_type": "code",
   "execution_count": null,
   "metadata": {
    "colab": {
     "base_uri": "https://localhost:8080/",
     "height": 320
    },
    "id": "47AJCH8XFkWm",
    "outputId": "f7f1e40e-ccce-4071-e41d-6c8819b3cfdd"
   },
   "outputs": [],
   "source": [
    "plt.figure(figsize=(12,5))\n",
    "plt.barh(y=categories, width=[data[categories[i]].value_counts()[1] for i in range(len(categories)) ])\n",
    "plt.show()"
   ]
  },
  {
   "cell_type": "code",
   "execution_count": null,
   "metadata": {
    "id": "lGcu_SbqG1Mg"
   },
   "outputs": [],
   "source": [
    "# You can see that pathologies like Airspace Opacity, Pleural Effusion, and Edema are present\n",
    "# in many of the reports while Lung Lesion and Pneumonia are not as common in this dataset."
   ]
  },
  {
   "cell_type": "code",
   "execution_count": null,
   "metadata": {
    "colab": {
     "base_uri": "https://localhost:8080/"
    },
    "id": "vkRW-7l0KyfE",
    "outputId": "5e6b99c2-b7fa-40fc-c2d8-a124b106799a"
   },
   "outputs": [],
   "source": [
    "# we will see data distribution\n",
    "data_distribution ={}\n",
    "for i in range(len(categories)):\n",
    "   count= data[categories[i]].value_counts()\n",
    "   data_distribution[categories[i]] = count\n",
    "data_distribution"
   ]
  },
  {
   "cell_type": "code",
   "execution_count": null,
   "metadata": {
    "colab": {
     "base_uri": "https://localhost:8080/",
     "height": 337
    },
    "id": "qhFuhCWTK3HJ",
    "outputId": "cb039f52-0dc4-4af8-f158-f85d0bffdcac"
   },
   "outputs": [],
   "source": [
    "plt.figure(figsize=(25,7))\n",
    "X_axis = np.arange(len(categories))\n",
    "plt.bar(X_axis-0.2 , height=[data[categories[i]].value_counts()[1] for i in range(len(categories)) ]\n",
    "         ,label='True')\n",
    "plt.bar(X_axis+0.2, height=[data[categories[i]].value_counts()[0] for i in range(len(categories)) ]\n",
    "          ,label='False')\n",
    "plt.xticks(X_axis, categories)\n",
    "plt.xlabel(\"Groups\")\n",
    "plt.ylabel(\"Number of Students\")\n",
    "plt.title(\"Number of Students in each group\")\n",
    "plt.legend()\n",
    "plt.show()"
   ]
  },
  {
   "cell_type": "code",
   "execution_count": null,
   "metadata": {
    "id": "8ztqQMyTK79A"
   },
   "outputs": [],
   "source": [
    "# we will handle imbalanced data\n",
    "# so first we will split the data for each class\n",
    "data_ = {}\n",
    "for j in range(len(categories)):\n",
    "  data_frame = data.drop([categories[i] for i in range(len(categories)) if categories[i] != categories[j]] , axis =1) # pd.concat([data['Report Impression'] , data[categories[i]]] ,axis =1)\n",
    "  data_[categories[j]] = data_frame"
   ]
  },
  {
   "cell_type": "code",
   "execution_count": null,
   "metadata": {
    "id": "fEw-2UV8Loro"
   },
   "outputs": [],
   "source": [
    "def handle_imbalanced_values():\n",
    "   for i in range(len(data_)):\n",
    "     data_class_ = data_[categories[i]]\n",
    "     data_class_1 = data_class_[data_class_[categories[i]] ==1]\n",
    "     data_class_0 = data_class_[data_class_[categories[i]] ==0]\n",
    "     data_class_1 = data_class_1.sample(data_class_0[categories[i]].value_counts()[0] , replace = True)\n",
    "     new_data_class_ = pd.concat([data_class_1 ,data_class_0 ] , axis =0).reset_index(drop =True)\n",
    "     data_[categories[i]] = new_data_class_"
   ]
  },
  {
   "cell_type": "code",
   "execution_count": null,
   "metadata": {
    "id": "5aEpxVqGQiAy"
   },
   "outputs": [],
   "source": [
    "handle_imbalanced_values()"
   ]
  },
  {
   "cell_type": "code",
   "execution_count": null,
   "metadata": {
    "colab": {
     "base_uri": "https://localhost:8080/"
    },
    "id": "-paccEdNQo50",
    "outputId": "88a97cff-3455-47b8-86f7-84d82c5553a4"
   },
   "outputs": [],
   "source": [
    "# we will see data_distribution now \n",
    "data_distribution ={}\n",
    "for i in range(len(categories)):\n",
    "   count= data_[categories[i]][categories[i]].value_counts()\n",
    "   data_distribution[categories[i]] = count\n",
    "data_distribution"
   ]
  },
  {
   "cell_type": "code",
   "execution_count": null,
   "metadata": {
    "id": "atGkErTnQ6xP"
   },
   "outputs": [],
   "source": [
    "# so the data now is balanced"
   ]
  },
  {
   "cell_type": "code",
   "execution_count": null,
   "metadata": {
    "id": "xQAjIveyIu3I"
   },
   "outputs": [],
   "source": [
    "for i in range(len(data_)):\n",
    "   x_ = data_[categories[i]]['Report Impression']\n",
    "   y_ = data_[categories[i]][categories[i]]\n",
    "   data_[categories[i]] = (x_ , y_)"
   ]
  },
  {
   "cell_type": "code",
   "execution_count": null,
   "metadata": {
    "colab": {
     "base_uri": "https://localhost:8080/"
    },
    "id": "0Hm3tQaUR1Lw",
    "outputId": "5835d78e-9a68-43b4-c8d8-20c8848a67d8"
   },
   "outputs": [],
   "source": [
    "print(data_['Edema'][0].shape)\n",
    "print(data_['Edema'][1].shape)"
   ]
  },
  {
   "cell_type": "code",
   "execution_count": null,
   "metadata": {
    "id": "8vhsUxvCJLiS"
   },
   "outputs": [],
   "source": [
    "# we will do some data preprocessing "
   ]
  },
  {
   "cell_type": "code",
   "execution_count": null,
   "metadata": {
    "colab": {
     "base_uri": "https://localhost:8080/"
    },
    "id": "UPDCsYEDJQOx",
    "outputId": "429205b5-105d-4f1f-e638-aeba9560263c"
   },
   "outputs": [],
   "source": [
    "print(data_['Edema'][0][0])"
   ]
  },
  {
   "cell_type": "code",
   "execution_count": null,
   "metadata": {
    "id": "XcZuOPFcJRDj"
   },
   "outputs": [],
   "source": [
    "def data_preprocessing(data_):\n",
    "  data_pre = {}\n",
    "  ps = PorterStemmer()\n",
    "  for j in range(len(data_)):\n",
    "     data = data_[categories[j]][0]\n",
    "     courps =[]\n",
    "     for i in range(len(data)) :\n",
    "       report = re.sub('[^a-zA-Z]', ' ', data[i])\n",
    "       report = report.lower()\n",
    "       report = report.split()\n",
    "       report = [ps.stem(i) for i in report]\n",
    "       report = ' '.join(report)\n",
    "       courps.append(report)\n",
    "     courps = np.array(courps)\n",
    "     data_pre[categories[j]] = courps\n",
    "  return data_pre"
   ]
  },
  {
   "cell_type": "code",
   "execution_count": null,
   "metadata": {
    "id": "82Y03ZLzMS4J"
   },
   "outputs": [],
   "source": [
    "data_pre = data_preprocessing(data_)"
   ]
  },
  {
   "cell_type": "code",
   "execution_count": null,
   "metadata": {
    "colab": {
     "base_uri": "https://localhost:8080/",
     "height": 36
    },
    "id": "HhV-fnZXMWPb",
    "outputId": "c7bc4724-78b6-4eab-d7b9-5587aa4f0455"
   },
   "outputs": [],
   "source": [
    "data_pre['Edema'][1]"
   ]
  },
  {
   "cell_type": "code",
   "execution_count": null,
   "metadata": {
    "id": "Khonw9J7MnGT"
   },
   "outputs": [],
   "source": [
    "voc_size = 1500"
   ]
  },
  {
   "cell_type": "code",
   "execution_count": null,
   "metadata": {
    "id": "rLuOH_5hEgxa"
   },
   "outputs": [],
   "source": [
    "onehot_dic ={}\n",
    "for i in range(len(data_pre)):\n",
    "  list__= data_pre[categories[i]]\n",
    "  onehot = [one_hot(word , voc_size) for word in list__ ]\n",
    "  onehot_dic[categories[i]] = onehot"
   ]
  },
  {
   "cell_type": "code",
   "execution_count": null,
   "metadata": {
    "colab": {
     "base_uri": "https://localhost:8080/"
    },
    "id": "N-ATDFwhEnlN",
    "outputId": "61732efd-e730-41df-8dd7-74354e929070"
   },
   "outputs": [],
   "source": [
    "print(len(onehot[0]))\n",
    "print(onehot[0])"
   ]
  },
  {
   "cell_type": "code",
   "execution_count": null,
   "metadata": {
    "id": "CcXUyWG9Ev-8"
   },
   "outputs": [],
   "source": [
    "max_lenght =181\n",
    "embedded_docs_dic ={}\n",
    "for i in range(len(categories)):\n",
    "  embedded_docs=pad_sequences(onehot_dic[categories[i]],padding='post',maxlen=max_lenght)\n",
    "  embedded_docs_dic[categories[i]] = embedded_docs"
   ]
  },
  {
   "cell_type": "code",
   "execution_count": null,
   "metadata": {
    "id": "YtZVIAdneSNm"
   },
   "outputs": [],
   "source": [
    "from sklearn.model_selection import train_test_split\n",
    "x_y_dic = {}\n",
    "for i in range(len(categories)):\n",
    "  X_final=np.asarray(embedded_docs_dic[categories[i]]).astype(np.float32)\n",
    "  y_final=np.asarray(data_[categories[i]][1])\n",
    "  X_train, X_test, y_train, y_test = train_test_split(X_final, y_final, test_size=0.2, random_state=42)\n",
    "  x_y_dic[categories[i]] = [X_train, X_test, y_train, y_test]"
   ]
  },
  {
   "cell_type": "markdown",
   "metadata": {
    "id": "6L7ecPPqPjiV"
   },
   "source": [
    "4 - train the model"
   ]
  },
  {
   "cell_type": "code",
   "execution_count": null,
   "metadata": {
    "id": "vlZHVRJZfL1O"
   },
   "outputs": [],
   "source": [
    "def train_model(embedding_vector_features ,X_train,y_train,X_test,y_test ):\n",
    "    model1=Sequential()\n",
    "    model1.add(Embedding(voc_size,embedding_vector_features,input_length=max_lenght))\n",
    "    model1.add(Bidirectional(LSTM(100)))\n",
    "    model1.add(keras.layers.Dropout(0.3))\n",
    "    model1.add(Dense(1,activation='sigmoid'))\n",
    "    model1.compile(loss='binary_crossentropy',optimizer='adam',metrics=['accuracy'])\n",
    "    history = model1.fit(X_train,y_train,validation_data=(X_test,y_test),epochs=5,batch_size=64)  \n",
    "    return model1 , history"
   ]
  },
  {
   "cell_type": "code",
   "execution_count": null,
   "metadata": {
    "id": "0arwdtfjLCJD"
   },
   "outputs": [],
   "source": [
    "def train_each_model_alone():\n",
    "  models = {}\n",
    "  histories ={}\n",
    "  for i in range(len(categories)):\n",
    "    X_train = x_y_dic[categories[i]][0]\n",
    "    y_train = x_y_dic[categories[i]][2]\n",
    "    X_test = x_y_dic[categories[i]][1]\n",
    "    y_test = x_y_dic[categories[i]][3]\n",
    "    embedding_vector_features=40\n",
    "    model1 , history = train_model(embedding_vector_features ,X_train,y_train,X_test,y_test )\n",
    "    models[categories[i]] = model1\n",
    "    histories[categories[i]] = history\n",
    "  return models , histories"
   ]
  },
  {
   "cell_type": "code",
   "execution_count": null,
   "metadata": {
    "colab": {
     "base_uri": "https://localhost:8080/"
    },
    "id": "a_1C9ko8MtsX",
    "outputId": "dcd2f9d6-2739-4072-eee3-e5e90bd25c45"
   },
   "outputs": [],
   "source": [
    "models , histories = train_each_model_alone()"
   ]
  },
  {
   "cell_type": "markdown",
   "metadata": {
    "id": "k55-0zWyQAo2"
   },
   "source": [
    "5 - we will compute score for each model"
   ]
  },
  {
   "cell_type": "code",
   "execution_count": null,
   "metadata": {
    "id": "zghqcaLdP0P8"
   },
   "outputs": [],
   "source": [
    "def score(models ):\n",
    "  scores = []\n",
    "  for i in range(len(categories)):\n",
    "      X_test_ = x_y_dic[categories[i]][1]\n",
    "      y_test_ = x_y_dic[categories[i]][3]\n",
    "      score = models[categories[i]].evaluate(X_test_ , y_test_)[1]\n",
    "      scores.append(score)\n",
    "  return np.array(scores) "
   ]
  },
  {
   "cell_type": "code",
   "execution_count": null,
   "metadata": {
    "colab": {
     "base_uri": "https://localhost:8080/"
    },
    "id": "ILUzUAvEQO3F",
    "outputId": "b11dc6a5-3b3b-4a26-e607-d4d1f9f13997"
   },
   "outputs": [],
   "source": [
    "scores = score(models)"
   ]
  },
  {
   "cell_type": "code",
   "execution_count": null,
   "metadata": {
    "colab": {
     "base_uri": "https://localhost:8080/"
    },
    "id": "2hI91d1QQjLo",
    "outputId": "f17f4391-8e61-41e7-c756-9cb57ec42730"
   },
   "outputs": [],
   "source": [
    "# we will compute mean score of all models\n",
    "mean_score = scores.sum() / len(scores)\n",
    "print(mean_score)"
   ]
  },
  {
   "cell_type": "markdown",
   "metadata": {
    "id": "ynuirKJTRd6F"
   },
   "source": [
    "6 - we will predict in all the models , confusion matrix and \n",
    " classification report"
   ]
  },
  {
   "cell_type": "code",
   "execution_count": null,
   "metadata": {
    "id": "7QmHrWMhRdJ4"
   },
   "outputs": [],
   "source": [
    "def predict(models , data) :\n",
    "  predictions_dic ={}\n",
    "  for i in categories :\n",
    "     model = models[i]\n",
    "     prediction = model.predict(data[i][1])\n",
    "     prediction =  np.where( prediction >0.5 , 1,0)\n",
    "     predictions_dic[i] = prediction  \n",
    "  return predictions_dic"
   ]
  },
  {
   "cell_type": "code",
   "execution_count": null,
   "metadata": {
    "id": "8wkrOuRGRp6S"
   },
   "outputs": [],
   "source": [
    "predictions = predict(models , x_y_dic)"
   ]
  },
  {
   "cell_type": "code",
   "execution_count": null,
   "metadata": {
    "id": "qHJksS6gRzAp"
   },
   "outputs": [],
   "source": [
    "from sklearn.metrics import confusion_matrix\n",
    "def compute_confusion_matrix(models ,data):\n",
    "   matrixs = []\n",
    "   for i in range(len(categories)):\n",
    "      confusion_ = confusion_matrix(data[categories[i]][3] , predictions[categories[i]])\n",
    "      matrixs.append(confusion_)\n",
    "   return np.array(matrixs)   \n",
    "    "
   ]
  },
  {
   "cell_type": "code",
   "execution_count": null,
   "metadata": {
    "id": "hv_bI_6XTX5a"
   },
   "outputs": [],
   "source": [
    "matrixs = compute_confusion_matrix(models,x_y_dic )"
   ]
  },
  {
   "cell_type": "code",
   "execution_count": null,
   "metadata": {
    "colab": {
     "base_uri": "https://localhost:8080/",
     "height": 1000
    },
    "id": "9WQ-dVaVTlpB",
    "outputId": "efbb4227-84c7-4c22-bfbc-7ee02cb16c22"
   },
   "outputs": [],
   "source": [
    "from matplotlib import pyplot as plt\n",
    "import seaborn as sn\n",
    "for i in range(len(matrixs)) :\n",
    "   sn.heatmap(matrixs[i], annot=True, fmt='d')\n",
    "   plt.show()"
   ]
  },
  {
   "cell_type": "code",
   "execution_count": null,
   "metadata": {
    "id": "jjW6Huv3UXLt"
   },
   "outputs": [],
   "source": [
    "from sklearn.metrics import classification_report\n",
    "def compute_classification_report(models,data):\n",
    "   reports = []\n",
    "   for i in range(len(categories)): \n",
    "      report_ = classification_report(data[categories[i]][3] , predictions[categories[i]])\n",
    "      reports.append(report_)\n",
    "   return np.array(reports) "
   ]
  },
  {
   "cell_type": "code",
   "execution_count": null,
   "metadata": {
    "colab": {
     "base_uri": "https://localhost:8080/"
    },
    "id": "vEO4O178U6xC",
    "outputId": "0371a37b-e6a5-4ad9-b2a7-dd0c649a7e37"
   },
   "outputs": [],
   "source": [
    "reports = compute_classification_report(models , x_y_dic)\n",
    "for i in range(len(reports)) :\n",
    "   print(categories[i])\n",
    "   print(reports[i])"
   ]
  },
  {
   "cell_type": "code",
   "execution_count": null,
   "metadata": {
    "id": "JhHniIMwsSCG"
   },
   "outputs": [],
   "source": [
    "def plot_accuracy(history) :\n",
    "  epochs = [i for i in range(7)]\n",
    "  fig , ax = plt.subplots(1,2)\n",
    "  train_acc = history.history['accuracy']\n",
    "  train_loss = history.history['loss']\n",
    "  val_acc = history.history['val_accuracy']\n",
    "  val_loss = history.history['val_loss']\n",
    "  fig.set_size_inches(20,10)\n",
    "  ax[0].plot(epochs , train_acc , 'go-' , label = 'Training Accuracy')\n",
    "  ax[0].plot(epochs , val_acc , 'ro-' , label = 'Validation Accuracy')\n",
    "  ax[0].set_title('Training & Validation Accuracy')\n",
    "  ax[0].legend()\n",
    "  ax[0].set_xlabel(\"Epochs\")\n",
    "  ax[0].set_ylabel(\"Accuracy\")\n",
    "  ax[1].plot(epochs , train_loss , 'g-o' , label = 'Training Loss')\n",
    "  ax[1].plot(epochs , val_loss , 'r-o' , label = 'Validation Loss')\n",
    "  ax[1].set_title('Testing Accuracy & Loss')\n",
    "  ax[1].legend()\n",
    "  ax[1].set_xlabel(\"Epochs\")\n",
    "  ax[1].set_ylabel(\"Training & Validation Loss\")\n",
    "  plt.show()"
   ]
  },
  {
   "cell_type": "code",
   "execution_count": null,
   "metadata": {
    "colab": {
     "base_uri": "https://localhost:8080/",
     "height": 560
    },
    "id": "tJ4J6rJYt0xX",
    "outputId": "4e491ba4-bd6e-4612-d640-ab1be0c690b8"
   },
   "outputs": [],
   "source": [
    "plot_accuracy(histories[categories[0]])"
   ]
  },
  {
   "cell_type": "markdown",
   "metadata": {
    "id": "1ROgc1zHVq_A"
   },
   "source": [
    "# as we see that method doing well in reports analysis"
   ]
  }
 ],
 "metadata": {
  "colab": {
   "collapsed_sections": [],
   "name": "radiologist_Reports_analysis.ipynb",
   "provenance": []
  },
  "kernelspec": {
   "display_name": "Python 3 (ipykernel)",
   "language": "python",
   "name": "python3"
  },
  "language_info": {
   "codemirror_mode": {
    "name": "ipython",
    "version": 3
   },
   "file_extension": ".py",
   "mimetype": "text/x-python",
   "name": "python",
   "nbconvert_exporter": "python",
   "pygments_lexer": "ipython3",
   "version": "3.9.7"
  }
 },
 "nbformat": 4,
 "nbformat_minor": 1
}
