{
  "nbformat": 4,
  "nbformat_minor": 0,
  "metadata": {
    "colab": {
      "name": "radiologist_Reports_analysis.ipynb",
      "provenance": [],
      "collapsed_sections": []
    },
    "kernelspec": {
      "name": "python3",
      "display_name": "Python 3"
    },
    "language_info": {
      "name": "python"
    }
  },
  "cells": [
    {
      "cell_type": "markdown",
      "source": [
        "1 -Get the data"
      ],
      "metadata": {
        "id": "SvOH92N0_Fa-"
      }
    },
    {
      "cell_type": "code",
      "source": [
        "! git clone https://github.com/amanchadha/coursera-ai-for-medicine-specialization.git"
      ],
      "metadata": {
        "colab": {
          "base_uri": "https://localhost:8080/"
        },
        "id": "kZ_aDL3j_HMq",
        "outputId": "e19d5835-4b10-4492-df4e-3a69ae197729"
      },
      "execution_count": 1,
      "outputs": [
        {
          "output_type": "stream",
          "name": "stdout",
          "text": [
            "fatal: destination path 'coursera-ai-for-medicine-specialization' already exists and is not an empty directory.\n"
          ]
        }
      ]
    },
    {
      "cell_type": "markdown",
      "source": [
        "2 - explore the data"
      ],
      "metadata": {
        "id": "IqDT1q4T_loX"
      }
    },
    {
      "cell_type": "code",
      "source": [
        "# import libraries\n",
        "import pandas as pd\n",
        "import numpy as np\n",
        "import matplotlib.pyplot as plt\n",
        "import re\n",
        "import nltk\n",
        "from nltk.corpus import stopwords\n",
        "from nltk.stem import WordNetLemmatizer\n",
        "from nltk.stem.porter import PorterStemmer\n",
        "nltk.download('stopwords')\n",
        "nltk.download('wordnet')\n",
        "nltk.download('omw-1.4')\n",
        "from tensorflow import keras\n",
        "from tensorflow.keras.layers import Embedding\n",
        "from tensorflow.keras.preprocessing.sequence import pad_sequences\n",
        "from tensorflow.keras.models import Sequential\n",
        "from tensorflow.keras.preprocessing.text import one_hot\n",
        "from tensorflow.keras.layers import LSTM\n",
        "from tensorflow.keras.layers import Dense\n",
        "from tensorflow.keras.layers import Bidirectional"
      ],
      "metadata": {
        "colab": {
          "base_uri": "https://localhost:8080/"
        },
        "id": "hMPl7o2q_IoP",
        "outputId": "c9c51e29-67d6-49ed-eedb-7a2e5aaaba30"
      },
      "execution_count": 2,
      "outputs": [
        {
          "output_type": "stream",
          "name": "stderr",
          "text": [
            "[nltk_data] Downloading package stopwords to /root/nltk_data...\n",
            "[nltk_data]   Package stopwords is already up-to-date!\n",
            "[nltk_data] Downloading package wordnet to /root/nltk_data...\n",
            "[nltk_data]   Package wordnet is already up-to-date!\n",
            "[nltk_data] Downloading package omw-1.4 to /root/nltk_data...\n",
            "[nltk_data]   Package omw-1.4 is already up-to-date!\n"
          ]
        }
      ]
    },
    {
      "cell_type": "code",
      "source": [
        "data = pd.read_csv('/content/coursera-ai-for-medicine-specialization/AI for Medical Treatment/Week 2/stanford_report_test.csv' , )"
      ],
      "metadata": {
        "id": "aEN_kQUa_wmr"
      },
      "execution_count": 3,
      "outputs": []
    },
    {
      "cell_type": "code",
      "source": [
        "data.shape"
      ],
      "metadata": {
        "colab": {
          "base_uri": "https://localhost:8080/"
        },
        "id": "V8lgnMLg_2Dn",
        "outputId": "f730caf0-29cf-43f0-cdc1-f641d397af13"
      },
      "execution_count": 4,
      "outputs": [
        {
          "output_type": "execute_result",
          "data": {
            "text/plain": [
              "(1000, 18)"
            ]
          },
          "metadata": {},
          "execution_count": 4
        }
      ]
    },
    {
      "cell_type": "code",
      "source": [
        "data = data.reset_index(drop=True)"
      ],
      "metadata": {
        "id": "kQon5yt8XJjY"
      },
      "execution_count": 5,
      "outputs": []
    },
    {
      "cell_type": "code",
      "source": [
        "data.head(5)"
      ],
      "metadata": {
        "colab": {
          "base_uri": "https://localhost:8080/",
          "height": 565
        },
        "id": "reMNAPWc_9uR",
        "outputId": "b8400886-3b85-49a3-c3cc-e29d098a9d64"
      },
      "execution_count": 6,
      "outputs": [
        {
          "output_type": "execute_result",
          "data": {
            "text/plain": [
              "   SimpleTestReportID                                  Report Impression  \\\n",
              "0                 1.0  \\n \\n1.mild pulmonary edema, and cardiomegaly....   \n",
              "1                 2.0  \\n \\n1.unremarkable cardiomediastinal silhouet...   \n",
              "2                 3.0  \\n1. lines and tubes are unchanged in position...   \n",
              "3                 4.0  \\n1. postoperative portable film with a right-...   \n",
              "4                 6.0  \\n \\n1.single frontal view of the chest demons...   \n",
              "\n",
              "   No Finding  Enlarged Cardiomediastinum  Cardiomegaly  Lung Lesion  \\\n",
              "0         NaN                         NaN           1.0          NaN   \n",
              "1         NaN                         0.0           NaN          NaN   \n",
              "2         NaN                         NaN           NaN          NaN   \n",
              "3         NaN                         NaN           NaN          NaN   \n",
              "4         NaN                         NaN           NaN          NaN   \n",
              "\n",
              "   Airspace Opacity  Edema  Consolidation  Pneumonia  Atelectasis  \\\n",
              "0               NaN    1.0           -1.0        NaN          1.0   \n",
              "1               1.0    NaN            0.0       -1.0          NaN   \n",
              "2               1.0    NaN            NaN        NaN          NaN   \n",
              "3               1.0    1.0            NaN        NaN          1.0   \n",
              "4               1.0    NaN            NaN        NaN          NaN   \n",
              "\n",
              "   Pneumothorax  Pleural Effusion  Pleural Other  Fracture  Support Devices  \\\n",
              "0           NaN               1.0            NaN       NaN              1.0   \n",
              "1           0.0               0.0            NaN       1.0              NaN   \n",
              "2          -1.0               NaN            NaN       NaN              1.0   \n",
              "3           1.0               NaN            NaN       NaN              1.0   \n",
              "4           0.0               1.0            NaN       NaN              1.0   \n",
              "\n",
              "                            Report Impression Parsed  \\\n",
              "0  ['(S1 (S (S (S (LST (LS 1.)) (NP (JJ mild) (JJ...   \n",
              "1  ['(S1 (S (S (NP (LST (LS 1.)) (NN unremarkable...   \n",
              "2  ['(S1 (S (S (LST (LS 1.)) (NP (NP (NNS lines))...   \n",
              "3  ['(S1 (S (S (LST (LS 1.)) (NP (NP (JJ postoper...   \n",
              "4  ['(S1 (S (S (NP (NP (LST (LS 1.)) (JJ single) ...   \n",
              "\n",
              "                          Report Impression DG Paths  \n",
              "0  ['/data3/CXR-CHEST/dgs/GL66832b_GL6dd686/0.pkl...  \n",
              "1  ['/data3/CXR-CHEST/dgs/GL6f51db_GL6f51dd/0.pkl...  \n",
              "2  ['/data3/CXR-CHEST/dgs/GL666dde_GL6b021a/0.pkl...  \n",
              "3  ['/data3/CXR-CHEST/dgs/GL6a8d08_GL6d5d21/0.pkl...  \n",
              "4  ['/data3/CXR-CHEST/dgs/GL675b56_GL6f4eb9/0.pkl...  "
            ],
            "text/html": [
              "\n",
              "  <div id=\"df-46b65ae9-3d92-41a1-be28-cce9d2964853\">\n",
              "    <div class=\"colab-df-container\">\n",
              "      <div>\n",
              "<style scoped>\n",
              "    .dataframe tbody tr th:only-of-type {\n",
              "        vertical-align: middle;\n",
              "    }\n",
              "\n",
              "    .dataframe tbody tr th {\n",
              "        vertical-align: top;\n",
              "    }\n",
              "\n",
              "    .dataframe thead th {\n",
              "        text-align: right;\n",
              "    }\n",
              "</style>\n",
              "<table border=\"1\" class=\"dataframe\">\n",
              "  <thead>\n",
              "    <tr style=\"text-align: right;\">\n",
              "      <th></th>\n",
              "      <th>SimpleTestReportID</th>\n",
              "      <th>Report Impression</th>\n",
              "      <th>No Finding</th>\n",
              "      <th>Enlarged Cardiomediastinum</th>\n",
              "      <th>Cardiomegaly</th>\n",
              "      <th>Lung Lesion</th>\n",
              "      <th>Airspace Opacity</th>\n",
              "      <th>Edema</th>\n",
              "      <th>Consolidation</th>\n",
              "      <th>Pneumonia</th>\n",
              "      <th>Atelectasis</th>\n",
              "      <th>Pneumothorax</th>\n",
              "      <th>Pleural Effusion</th>\n",
              "      <th>Pleural Other</th>\n",
              "      <th>Fracture</th>\n",
              "      <th>Support Devices</th>\n",
              "      <th>Report Impression Parsed</th>\n",
              "      <th>Report Impression DG Paths</th>\n",
              "    </tr>\n",
              "  </thead>\n",
              "  <tbody>\n",
              "    <tr>\n",
              "      <th>0</th>\n",
              "      <td>1.0</td>\n",
              "      <td>\\n \\n1.mild pulmonary edema, and cardiomegaly....</td>\n",
              "      <td>NaN</td>\n",
              "      <td>NaN</td>\n",
              "      <td>1.0</td>\n",
              "      <td>NaN</td>\n",
              "      <td>NaN</td>\n",
              "      <td>1.0</td>\n",
              "      <td>-1.0</td>\n",
              "      <td>NaN</td>\n",
              "      <td>1.0</td>\n",
              "      <td>NaN</td>\n",
              "      <td>1.0</td>\n",
              "      <td>NaN</td>\n",
              "      <td>NaN</td>\n",
              "      <td>1.0</td>\n",
              "      <td>['(S1 (S (S (S (LST (LS 1.)) (NP (JJ mild) (JJ...</td>\n",
              "      <td>['/data3/CXR-CHEST/dgs/GL66832b_GL6dd686/0.pkl...</td>\n",
              "    </tr>\n",
              "    <tr>\n",
              "      <th>1</th>\n",
              "      <td>2.0</td>\n",
              "      <td>\\n \\n1.unremarkable cardiomediastinal silhouet...</td>\n",
              "      <td>NaN</td>\n",
              "      <td>0.0</td>\n",
              "      <td>NaN</td>\n",
              "      <td>NaN</td>\n",
              "      <td>1.0</td>\n",
              "      <td>NaN</td>\n",
              "      <td>0.0</td>\n",
              "      <td>-1.0</td>\n",
              "      <td>NaN</td>\n",
              "      <td>0.0</td>\n",
              "      <td>0.0</td>\n",
              "      <td>NaN</td>\n",
              "      <td>1.0</td>\n",
              "      <td>NaN</td>\n",
              "      <td>['(S1 (S (S (NP (LST (LS 1.)) (NN unremarkable...</td>\n",
              "      <td>['/data3/CXR-CHEST/dgs/GL6f51db_GL6f51dd/0.pkl...</td>\n",
              "    </tr>\n",
              "    <tr>\n",
              "      <th>2</th>\n",
              "      <td>3.0</td>\n",
              "      <td>\\n1. lines and tubes are unchanged in position...</td>\n",
              "      <td>NaN</td>\n",
              "      <td>NaN</td>\n",
              "      <td>NaN</td>\n",
              "      <td>NaN</td>\n",
              "      <td>1.0</td>\n",
              "      <td>NaN</td>\n",
              "      <td>NaN</td>\n",
              "      <td>NaN</td>\n",
              "      <td>NaN</td>\n",
              "      <td>-1.0</td>\n",
              "      <td>NaN</td>\n",
              "      <td>NaN</td>\n",
              "      <td>NaN</td>\n",
              "      <td>1.0</td>\n",
              "      <td>['(S1 (S (S (LST (LS 1.)) (NP (NP (NNS lines))...</td>\n",
              "      <td>['/data3/CXR-CHEST/dgs/GL666dde_GL6b021a/0.pkl...</td>\n",
              "    </tr>\n",
              "    <tr>\n",
              "      <th>3</th>\n",
              "      <td>4.0</td>\n",
              "      <td>\\n1. postoperative portable film with a right-...</td>\n",
              "      <td>NaN</td>\n",
              "      <td>NaN</td>\n",
              "      <td>NaN</td>\n",
              "      <td>NaN</td>\n",
              "      <td>1.0</td>\n",
              "      <td>1.0</td>\n",
              "      <td>NaN</td>\n",
              "      <td>NaN</td>\n",
              "      <td>1.0</td>\n",
              "      <td>1.0</td>\n",
              "      <td>NaN</td>\n",
              "      <td>NaN</td>\n",
              "      <td>NaN</td>\n",
              "      <td>1.0</td>\n",
              "      <td>['(S1 (S (S (LST (LS 1.)) (NP (NP (JJ postoper...</td>\n",
              "      <td>['/data3/CXR-CHEST/dgs/GL6a8d08_GL6d5d21/0.pkl...</td>\n",
              "    </tr>\n",
              "    <tr>\n",
              "      <th>4</th>\n",
              "      <td>6.0</td>\n",
              "      <td>\\n \\n1.single frontal view of the chest demons...</td>\n",
              "      <td>NaN</td>\n",
              "      <td>NaN</td>\n",
              "      <td>NaN</td>\n",
              "      <td>NaN</td>\n",
              "      <td>1.0</td>\n",
              "      <td>NaN</td>\n",
              "      <td>NaN</td>\n",
              "      <td>NaN</td>\n",
              "      <td>NaN</td>\n",
              "      <td>0.0</td>\n",
              "      <td>1.0</td>\n",
              "      <td>NaN</td>\n",
              "      <td>NaN</td>\n",
              "      <td>1.0</td>\n",
              "      <td>['(S1 (S (S (NP (NP (LST (LS 1.)) (JJ single) ...</td>\n",
              "      <td>['/data3/CXR-CHEST/dgs/GL675b56_GL6f4eb9/0.pkl...</td>\n",
              "    </tr>\n",
              "  </tbody>\n",
              "</table>\n",
              "</div>\n",
              "      <button class=\"colab-df-convert\" onclick=\"convertToInteractive('df-46b65ae9-3d92-41a1-be28-cce9d2964853')\"\n",
              "              title=\"Convert this dataframe to an interactive table.\"\n",
              "              style=\"display:none;\">\n",
              "        \n",
              "  <svg xmlns=\"http://www.w3.org/2000/svg\" height=\"24px\"viewBox=\"0 0 24 24\"\n",
              "       width=\"24px\">\n",
              "    <path d=\"M0 0h24v24H0V0z\" fill=\"none\"/>\n",
              "    <path d=\"M18.56 5.44l.94 2.06.94-2.06 2.06-.94-2.06-.94-.94-2.06-.94 2.06-2.06.94zm-11 1L8.5 8.5l.94-2.06 2.06-.94-2.06-.94L8.5 2.5l-.94 2.06-2.06.94zm10 10l.94 2.06.94-2.06 2.06-.94-2.06-.94-.94-2.06-.94 2.06-2.06.94z\"/><path d=\"M17.41 7.96l-1.37-1.37c-.4-.4-.92-.59-1.43-.59-.52 0-1.04.2-1.43.59L10.3 9.45l-7.72 7.72c-.78.78-.78 2.05 0 2.83L4 21.41c.39.39.9.59 1.41.59.51 0 1.02-.2 1.41-.59l7.78-7.78 2.81-2.81c.8-.78.8-2.07 0-2.86zM5.41 20L4 18.59l7.72-7.72 1.47 1.35L5.41 20z\"/>\n",
              "  </svg>\n",
              "      </button>\n",
              "      \n",
              "  <style>\n",
              "    .colab-df-container {\n",
              "      display:flex;\n",
              "      flex-wrap:wrap;\n",
              "      gap: 12px;\n",
              "    }\n",
              "\n",
              "    .colab-df-convert {\n",
              "      background-color: #E8F0FE;\n",
              "      border: none;\n",
              "      border-radius: 50%;\n",
              "      cursor: pointer;\n",
              "      display: none;\n",
              "      fill: #1967D2;\n",
              "      height: 32px;\n",
              "      padding: 0 0 0 0;\n",
              "      width: 32px;\n",
              "    }\n",
              "\n",
              "    .colab-df-convert:hover {\n",
              "      background-color: #E2EBFA;\n",
              "      box-shadow: 0px 1px 2px rgba(60, 64, 67, 0.3), 0px 1px 3px 1px rgba(60, 64, 67, 0.15);\n",
              "      fill: #174EA6;\n",
              "    }\n",
              "\n",
              "    [theme=dark] .colab-df-convert {\n",
              "      background-color: #3B4455;\n",
              "      fill: #D2E3FC;\n",
              "    }\n",
              "\n",
              "    [theme=dark] .colab-df-convert:hover {\n",
              "      background-color: #434B5C;\n",
              "      box-shadow: 0px 1px 3px 1px rgba(0, 0, 0, 0.15);\n",
              "      filter: drop-shadow(0px 1px 2px rgba(0, 0, 0, 0.3));\n",
              "      fill: #FFFFFF;\n",
              "    }\n",
              "  </style>\n",
              "\n",
              "      <script>\n",
              "        const buttonEl =\n",
              "          document.querySelector('#df-46b65ae9-3d92-41a1-be28-cce9d2964853 button.colab-df-convert');\n",
              "        buttonEl.style.display =\n",
              "          google.colab.kernel.accessAllowed ? 'block' : 'none';\n",
              "\n",
              "        async function convertToInteractive(key) {\n",
              "          const element = document.querySelector('#df-46b65ae9-3d92-41a1-be28-cce9d2964853');\n",
              "          const dataTable =\n",
              "            await google.colab.kernel.invokeFunction('convertToInteractive',\n",
              "                                                     [key], {});\n",
              "          if (!dataTable) return;\n",
              "\n",
              "          const docLinkHtml = 'Like what you see? Visit the ' +\n",
              "            '<a target=\"_blank\" href=https://colab.research.google.com/notebooks/data_table.ipynb>data table notebook</a>'\n",
              "            + ' to learn more about interactive tables.';\n",
              "          element.innerHTML = '';\n",
              "          dataTable['output_type'] = 'display_data';\n",
              "          await google.colab.output.renderOutput(dataTable, element);\n",
              "          const docLink = document.createElement('div');\n",
              "          docLink.innerHTML = docLinkHtml;\n",
              "          element.appendChild(docLink);\n",
              "        }\n",
              "      </script>\n",
              "    </div>\n",
              "  </div>\n",
              "  "
            ]
          },
          "metadata": {},
          "execution_count": 6
        }
      ]
    },
    {
      "cell_type": "markdown",
      "source": [
        " 3 - data cleaning"
      ],
      "metadata": {
        "id": "H8JqFkP-Cp9e"
      }
    },
    {
      "cell_type": "code",
      "source": [
        "# first we will retain useful features in the dataset\n",
        "data = data[['Report Impression','Cardiomegaly' ,'Lung Lesion' , 'Airspace Opacity' , \n",
        "            'Edema' , 'Consolidation' , 'Pneumonia' , 'Atelectasis' ,'Pneumothorax',\n",
        "             'Pleural Effusion' , 'Pleural Other' , 'Fracture' ]] "
      ],
      "metadata": {
        "id": "By6V0IEa__gw"
      },
      "execution_count": 7,
      "outputs": []
    },
    {
      "cell_type": "code",
      "source": [
        "data.shape"
      ],
      "metadata": {
        "colab": {
          "base_uri": "https://localhost:8080/"
        },
        "id": "vGgl0D3VDnkN",
        "outputId": "35712efd-d12f-4275-c7b1-ef56e6a3b6ba"
      },
      "execution_count": 8,
      "outputs": [
        {
          "output_type": "execute_result",
          "data": {
            "text/plain": [
              "(1000, 12)"
            ]
          },
          "metadata": {},
          "execution_count": 8
        }
      ]
    },
    {
      "cell_type": "code",
      "source": [
        "data.head(5)"
      ],
      "metadata": {
        "colab": {
          "base_uri": "https://localhost:8080/",
          "height": 548
        },
        "id": "LaA7kxMfDpZs",
        "outputId": "77f1202d-3774-4ce1-f4ee-f3026c07effb"
      },
      "execution_count": 9,
      "outputs": [
        {
          "output_type": "execute_result",
          "data": {
            "text/plain": [
              "                                   Report Impression  Cardiomegaly  \\\n",
              "0  \\n \\n1.mild pulmonary edema, and cardiomegaly....           1.0   \n",
              "1  \\n \\n1.unremarkable cardiomediastinal silhouet...           NaN   \n",
              "2  \\n1. lines and tubes are unchanged in position...           NaN   \n",
              "3  \\n1. postoperative portable film with a right-...           NaN   \n",
              "4  \\n \\n1.single frontal view of the chest demons...           NaN   \n",
              "\n",
              "   Lung Lesion  Airspace Opacity  Edema  Consolidation  Pneumonia  \\\n",
              "0          NaN               NaN    1.0           -1.0        NaN   \n",
              "1          NaN               1.0    NaN            0.0       -1.0   \n",
              "2          NaN               1.0    NaN            NaN        NaN   \n",
              "3          NaN               1.0    1.0            NaN        NaN   \n",
              "4          NaN               1.0    NaN            NaN        NaN   \n",
              "\n",
              "   Atelectasis  Pneumothorax  Pleural Effusion  Pleural Other  Fracture  \n",
              "0          1.0           NaN               1.0            NaN       NaN  \n",
              "1          NaN           0.0               0.0            NaN       1.0  \n",
              "2          NaN          -1.0               NaN            NaN       NaN  \n",
              "3          1.0           1.0               NaN            NaN       NaN  \n",
              "4          NaN           0.0               1.0            NaN       NaN  "
            ],
            "text/html": [
              "\n",
              "  <div id=\"df-08fa984c-8602-40ce-8af0-1c5b3e35761a\">\n",
              "    <div class=\"colab-df-container\">\n",
              "      <div>\n",
              "<style scoped>\n",
              "    .dataframe tbody tr th:only-of-type {\n",
              "        vertical-align: middle;\n",
              "    }\n",
              "\n",
              "    .dataframe tbody tr th {\n",
              "        vertical-align: top;\n",
              "    }\n",
              "\n",
              "    .dataframe thead th {\n",
              "        text-align: right;\n",
              "    }\n",
              "</style>\n",
              "<table border=\"1\" class=\"dataframe\">\n",
              "  <thead>\n",
              "    <tr style=\"text-align: right;\">\n",
              "      <th></th>\n",
              "      <th>Report Impression</th>\n",
              "      <th>Cardiomegaly</th>\n",
              "      <th>Lung Lesion</th>\n",
              "      <th>Airspace Opacity</th>\n",
              "      <th>Edema</th>\n",
              "      <th>Consolidation</th>\n",
              "      <th>Pneumonia</th>\n",
              "      <th>Atelectasis</th>\n",
              "      <th>Pneumothorax</th>\n",
              "      <th>Pleural Effusion</th>\n",
              "      <th>Pleural Other</th>\n",
              "      <th>Fracture</th>\n",
              "    </tr>\n",
              "  </thead>\n",
              "  <tbody>\n",
              "    <tr>\n",
              "      <th>0</th>\n",
              "      <td>\\n \\n1.mild pulmonary edema, and cardiomegaly....</td>\n",
              "      <td>1.0</td>\n",
              "      <td>NaN</td>\n",
              "      <td>NaN</td>\n",
              "      <td>1.0</td>\n",
              "      <td>-1.0</td>\n",
              "      <td>NaN</td>\n",
              "      <td>1.0</td>\n",
              "      <td>NaN</td>\n",
              "      <td>1.0</td>\n",
              "      <td>NaN</td>\n",
              "      <td>NaN</td>\n",
              "    </tr>\n",
              "    <tr>\n",
              "      <th>1</th>\n",
              "      <td>\\n \\n1.unremarkable cardiomediastinal silhouet...</td>\n",
              "      <td>NaN</td>\n",
              "      <td>NaN</td>\n",
              "      <td>1.0</td>\n",
              "      <td>NaN</td>\n",
              "      <td>0.0</td>\n",
              "      <td>-1.0</td>\n",
              "      <td>NaN</td>\n",
              "      <td>0.0</td>\n",
              "      <td>0.0</td>\n",
              "      <td>NaN</td>\n",
              "      <td>1.0</td>\n",
              "    </tr>\n",
              "    <tr>\n",
              "      <th>2</th>\n",
              "      <td>\\n1. lines and tubes are unchanged in position...</td>\n",
              "      <td>NaN</td>\n",
              "      <td>NaN</td>\n",
              "      <td>1.0</td>\n",
              "      <td>NaN</td>\n",
              "      <td>NaN</td>\n",
              "      <td>NaN</td>\n",
              "      <td>NaN</td>\n",
              "      <td>-1.0</td>\n",
              "      <td>NaN</td>\n",
              "      <td>NaN</td>\n",
              "      <td>NaN</td>\n",
              "    </tr>\n",
              "    <tr>\n",
              "      <th>3</th>\n",
              "      <td>\\n1. postoperative portable film with a right-...</td>\n",
              "      <td>NaN</td>\n",
              "      <td>NaN</td>\n",
              "      <td>1.0</td>\n",
              "      <td>1.0</td>\n",
              "      <td>NaN</td>\n",
              "      <td>NaN</td>\n",
              "      <td>1.0</td>\n",
              "      <td>1.0</td>\n",
              "      <td>NaN</td>\n",
              "      <td>NaN</td>\n",
              "      <td>NaN</td>\n",
              "    </tr>\n",
              "    <tr>\n",
              "      <th>4</th>\n",
              "      <td>\\n \\n1.single frontal view of the chest demons...</td>\n",
              "      <td>NaN</td>\n",
              "      <td>NaN</td>\n",
              "      <td>1.0</td>\n",
              "      <td>NaN</td>\n",
              "      <td>NaN</td>\n",
              "      <td>NaN</td>\n",
              "      <td>NaN</td>\n",
              "      <td>0.0</td>\n",
              "      <td>1.0</td>\n",
              "      <td>NaN</td>\n",
              "      <td>NaN</td>\n",
              "    </tr>\n",
              "  </tbody>\n",
              "</table>\n",
              "</div>\n",
              "      <button class=\"colab-df-convert\" onclick=\"convertToInteractive('df-08fa984c-8602-40ce-8af0-1c5b3e35761a')\"\n",
              "              title=\"Convert this dataframe to an interactive table.\"\n",
              "              style=\"display:none;\">\n",
              "        \n",
              "  <svg xmlns=\"http://www.w3.org/2000/svg\" height=\"24px\"viewBox=\"0 0 24 24\"\n",
              "       width=\"24px\">\n",
              "    <path d=\"M0 0h24v24H0V0z\" fill=\"none\"/>\n",
              "    <path d=\"M18.56 5.44l.94 2.06.94-2.06 2.06-.94-2.06-.94-.94-2.06-.94 2.06-2.06.94zm-11 1L8.5 8.5l.94-2.06 2.06-.94-2.06-.94L8.5 2.5l-.94 2.06-2.06.94zm10 10l.94 2.06.94-2.06 2.06-.94-2.06-.94-.94-2.06-.94 2.06-2.06.94z\"/><path d=\"M17.41 7.96l-1.37-1.37c-.4-.4-.92-.59-1.43-.59-.52 0-1.04.2-1.43.59L10.3 9.45l-7.72 7.72c-.78.78-.78 2.05 0 2.83L4 21.41c.39.39.9.59 1.41.59.51 0 1.02-.2 1.41-.59l7.78-7.78 2.81-2.81c.8-.78.8-2.07 0-2.86zM5.41 20L4 18.59l7.72-7.72 1.47 1.35L5.41 20z\"/>\n",
              "  </svg>\n",
              "      </button>\n",
              "      \n",
              "  <style>\n",
              "    .colab-df-container {\n",
              "      display:flex;\n",
              "      flex-wrap:wrap;\n",
              "      gap: 12px;\n",
              "    }\n",
              "\n",
              "    .colab-df-convert {\n",
              "      background-color: #E8F0FE;\n",
              "      border: none;\n",
              "      border-radius: 50%;\n",
              "      cursor: pointer;\n",
              "      display: none;\n",
              "      fill: #1967D2;\n",
              "      height: 32px;\n",
              "      padding: 0 0 0 0;\n",
              "      width: 32px;\n",
              "    }\n",
              "\n",
              "    .colab-df-convert:hover {\n",
              "      background-color: #E2EBFA;\n",
              "      box-shadow: 0px 1px 2px rgba(60, 64, 67, 0.3), 0px 1px 3px 1px rgba(60, 64, 67, 0.15);\n",
              "      fill: #174EA6;\n",
              "    }\n",
              "\n",
              "    [theme=dark] .colab-df-convert {\n",
              "      background-color: #3B4455;\n",
              "      fill: #D2E3FC;\n",
              "    }\n",
              "\n",
              "    [theme=dark] .colab-df-convert:hover {\n",
              "      background-color: #434B5C;\n",
              "      box-shadow: 0px 1px 3px 1px rgba(0, 0, 0, 0.15);\n",
              "      filter: drop-shadow(0px 1px 2px rgba(0, 0, 0, 0.3));\n",
              "      fill: #FFFFFF;\n",
              "    }\n",
              "  </style>\n",
              "\n",
              "      <script>\n",
              "        const buttonEl =\n",
              "          document.querySelector('#df-08fa984c-8602-40ce-8af0-1c5b3e35761a button.colab-df-convert');\n",
              "        buttonEl.style.display =\n",
              "          google.colab.kernel.accessAllowed ? 'block' : 'none';\n",
              "\n",
              "        async function convertToInteractive(key) {\n",
              "          const element = document.querySelector('#df-08fa984c-8602-40ce-8af0-1c5b3e35761a');\n",
              "          const dataTable =\n",
              "            await google.colab.kernel.invokeFunction('convertToInteractive',\n",
              "                                                     [key], {});\n",
              "          if (!dataTable) return;\n",
              "\n",
              "          const docLinkHtml = 'Like what you see? Visit the ' +\n",
              "            '<a target=\"_blank\" href=https://colab.research.google.com/notebooks/data_table.ipynb>data table notebook</a>'\n",
              "            + ' to learn more about interactive tables.';\n",
              "          element.innerHTML = '';\n",
              "          dataTable['output_type'] = 'display_data';\n",
              "          await google.colab.output.renderOutput(dataTable, element);\n",
              "          const docLink = document.createElement('div');\n",
              "          docLink.innerHTML = docLinkHtml;\n",
              "          element.appendChild(docLink);\n",
              "        }\n",
              "      </script>\n",
              "    </div>\n",
              "  </div>\n",
              "  "
            ]
          },
          "metadata": {},
          "execution_count": 9
        }
      ]
    },
    {
      "cell_type": "code",
      "source": [
        "# we will replace -1 values  and nan values with 0\n",
        "data.fillna(0.0 , inplace = True)\n",
        "data.replace(-1.0 , 0.0 ,inplace = True)"
      ],
      "metadata": {
        "id": "SsNftlvxDrgI",
        "colab": {
          "base_uri": "https://localhost:8080/"
        },
        "outputId": "fd965481-0db6-4916-e3d9-46f19f6cc29d"
      },
      "execution_count": 10,
      "outputs": [
        {
          "output_type": "stream",
          "name": "stderr",
          "text": [
            "/usr/local/lib/python3.7/dist-packages/pandas/core/frame.py:5182: SettingWithCopyWarning: \n",
            "A value is trying to be set on a copy of a slice from a DataFrame\n",
            "\n",
            "See the caveats in the documentation: https://pandas.pydata.org/pandas-docs/stable/user_guide/indexing.html#returning-a-view-versus-a-copy\n",
            "  downcast=downcast,\n",
            "/usr/local/lib/python3.7/dist-packages/pandas/core/frame.py:5244: SettingWithCopyWarning: \n",
            "A value is trying to be set on a copy of a slice from a DataFrame\n",
            "\n",
            "See the caveats in the documentation: https://pandas.pydata.org/pandas-docs/stable/user_guide/indexing.html#returning-a-view-versus-a-copy\n",
            "  method=method,\n"
          ]
        }
      ]
    },
    {
      "cell_type": "code",
      "source": [
        "unique_dic = {}\n",
        "for i in data.columns :\n",
        "  if i != 'Report Impression' :\n",
        "      unique_dic[i] = data[i].unique()"
      ],
      "metadata": {
        "id": "gKXZuaSKEbRk"
      },
      "execution_count": 11,
      "outputs": []
    },
    {
      "cell_type": "code",
      "source": [
        "unique_dic"
      ],
      "metadata": {
        "colab": {
          "base_uri": "https://localhost:8080/"
        },
        "id": "xAr-bZylE8PA",
        "outputId": "82762e3d-ce04-4e33-91cf-e3dc7ef427e5"
      },
      "execution_count": 12,
      "outputs": [
        {
          "output_type": "execute_result",
          "data": {
            "text/plain": [
              "{'Cardiomegaly': array([1., 0.]),\n",
              " 'Lung Lesion': array([0., 1.]),\n",
              " 'Airspace Opacity': array([0., 1.]),\n",
              " 'Edema': array([1., 0.]),\n",
              " 'Consolidation': array([0., 1.]),\n",
              " 'Pneumonia': array([0., 1.]),\n",
              " 'Atelectasis': array([1., 0.]),\n",
              " 'Pneumothorax': array([0., 1.]),\n",
              " 'Pleural Effusion': array([1., 0.]),\n",
              " 'Pleural Other': array([0., 1.]),\n",
              " 'Fracture': array([0., 1.])}"
            ]
          },
          "metadata": {},
          "execution_count": 12
        }
      ]
    },
    {
      "cell_type": "code",
      "source": [
        "categories = [i for i in data.columns if i != 'Report Impression']"
      ],
      "metadata": {
        "id": "MWIEw9KHGhY6"
      },
      "execution_count": 13,
      "outputs": []
    },
    {
      "cell_type": "code",
      "source": [
        "categories"
      ],
      "metadata": {
        "colab": {
          "base_uri": "https://localhost:8080/"
        },
        "id": "1ZIVYu-hGvKg",
        "outputId": "51c6659e-ebe9-42b7-c6dc-d03347d56c7a"
      },
      "execution_count": 14,
      "outputs": [
        {
          "output_type": "execute_result",
          "data": {
            "text/plain": [
              "['Cardiomegaly',\n",
              " 'Lung Lesion',\n",
              " 'Airspace Opacity',\n",
              " 'Edema',\n",
              " 'Consolidation',\n",
              " 'Pneumonia',\n",
              " 'Atelectasis',\n",
              " 'Pneumothorax',\n",
              " 'Pleural Effusion',\n",
              " 'Pleural Other',\n",
              " 'Fracture']"
            ]
          },
          "metadata": {},
          "execution_count": 14
        }
      ]
    },
    {
      "cell_type": "code",
      "source": [
        "plt.figure(figsize=(12,5))\n",
        "plt.barh(y=categories, width=[data[categories[i]].value_counts()[1] for i in range(len(categories)) ])\n",
        "plt.show()"
      ],
      "metadata": {
        "colab": {
          "base_uri": "https://localhost:8080/",
          "height": 320
        },
        "id": "47AJCH8XFkWm",
        "outputId": "f7f1e40e-ccce-4071-e41d-6c8819b3cfdd"
      },
      "execution_count": 15,
      "outputs": [
        {
          "output_type": "display_data",
          "data": {
            "text/plain": [
              "<Figure size 864x360 with 1 Axes>"
            ],
            "image/png": "[encoded data removed]"
          },
          "metadata": {
            "needs_background": "light"
          }
        }
      ]
    },
    {
      "cell_type": "code",
      "source": [
        "# You can see that pathologies like Airspace Opacity, Pleural Effusion, and Edema are present\n",
        "# in many of the reports while Lung Lesion and Pneumonia are not as common in this dataset."
      ],
      "metadata": {
        "id": "lGcu_SbqG1Mg"
      },
      "execution_count": 16,
      "outputs": []
    },
    {
      "cell_type": "code",
      "source": [
        "# we will see data distribution\n",
        "data_distribution ={}\n",
        "for i in range(len(categories)):\n",
        "   count= data[categories[i]].value_counts()\n",
        "   data_distribution[categories[i]] = count\n",
        "data_distribution"
      ],
      "metadata": {
        "colab": {
          "base_uri": "https://localhost:8080/"
        },
        "id": "vkRW-7l0KyfE",
        "outputId": "5e6b99c2-b7fa-40fc-c2d8-a124b106799a"
      },
      "execution_count": 17,
      "outputs": [
        {
          "output_type": "execute_result",
          "data": {
            "text/plain": [
              "{'Cardiomegaly': 0.0    883\n",
              " 1.0    117\n",
              " Name: Cardiomegaly, dtype: int64, 'Lung Lesion': 0.0    971\n",
              " 1.0     29\n",
              " Name: Lung Lesion, dtype: int64, 'Airspace Opacity': 0.0    567\n",
              " 1.0    433\n",
              " Name: Airspace Opacity, dtype: int64, 'Edema': 0.0    807\n",
              " 1.0    193\n",
              " Name: Edema, dtype: int64, 'Consolidation': 0.0    943\n",
              " 1.0     57\n",
              " Name: Consolidation, dtype: int64, 'Pneumonia': 0.0    971\n",
              " 1.0     29\n",
              " Name: Pneumonia, dtype: int64, 'Atelectasis': 0.0    856\n",
              " 1.0    144\n",
              " Name: Atelectasis, dtype: int64, 'Pneumothorax': 0.0    953\n",
              " 1.0     47\n",
              " Name: Pneumothorax, dtype: int64, 'Pleural Effusion': 0.0    698\n",
              " 1.0    302\n",
              " Name: Pleural Effusion, dtype: int64, 'Pleural Other': 0.0    971\n",
              " 1.0     29\n",
              " Name: Pleural Other, dtype: int64, 'Fracture': 0.0    958\n",
              " 1.0     42\n",
              " Name: Fracture, dtype: int64}"
            ]
          },
          "metadata": {},
          "execution_count": 17
        }
      ]
    },
    {
      "cell_type": "code",
      "source": [
        "plt.figure(figsize=(25,7))\n",
        "X_axis = np.arange(len(categories))\n",
        "plt.bar(X_axis-0.2 , height=[data[categories[i]].value_counts()[1] for i in range(len(categories)) ]\n",
        "         ,label='True')\n",
        "plt.bar(X_axis+0.2, height=[data[categories[i]].value_counts()[0] for i in range(len(categories)) ]\n",
        "          ,label='False')\n",
        "plt.xticks(X_axis, categories)\n",
        "plt.xlabel(\"Groups\")\n",
        "plt.ylabel(\"Number of Students\")\n",
        "plt.title(\"Number of Students in each group\")\n",
        "plt.legend()\n",
        "plt.show()"
      ],
      "metadata": {
        "colab": {
          "base_uri": "https://localhost:8080/",
          "height": 337
        },
        "id": "qhFuhCWTK3HJ",
        "outputId": "cb039f52-0dc4-4af8-f158-f85d0bffdcac"
      },
      "execution_count": 18,
      "outputs": [
        {
          "output_type": "display_data",
          "data": {
            "text/plain": [
              "<Figure size 1800x504 with 1 Axes>"
            ],
            "image/png": "[encoded data removed]"
          },
          "metadata": {
            "needs_background": "light"
          }
        }
      ]
    },
    {
      "cell_type": "code",
      "source": [
        "# we will handle imbalanced data\n",
        "# so first we will split the data for each class\n",
        "data_ = {}\n",
        "for j in range(len(categories)):\n",
        "  data_frame = data.drop([categories[i] for i in range(len(categories)) if categories[i] != categories[j]] , axis =1) # pd.concat([data['Report Impression'] , data[categories[i]]] ,axis =1)\n",
        "  data_[categories[j]] = data_frame"
      ],
      "metadata": {
        "id": "8ztqQMyTK79A"
      },
      "execution_count": 19,
      "outputs": []
    },
    {
      "cell_type": "code",
      "source": [
        "def handle_imbalanced_values():\n",
        "   for i in range(len(data_)):\n",
        "     data_class_ = data_[categories[i]]\n",
        "     data_class_1 = data_class_[data_class_[categories[i]] ==1]\n",
        "     data_class_0 = data_class_[data_class_[categories[i]] ==0]\n",
        "     data_class_1 = data_class_1.sample(data_class_0[categories[i]].value_counts()[0] , replace = True)\n",
        "     new_data_class_ = pd.concat([data_class_1 ,data_class_0 ] , axis =0).reset_index(drop =True)\n",
        "     data_[categories[i]] = new_data_class_"
      ],
      "metadata": {
        "id": "fEw-2UV8Loro"
      },
      "execution_count": 20,
      "outputs": []
    },
    {
      "cell_type": "code",
      "source": [
        "handle_imbalanced_values()"
      ],
      "metadata": {
        "id": "5aEpxVqGQiAy"
      },
      "execution_count": 21,
      "outputs": []
    },
    {
      "cell_type": "code",
      "source": [
        "# we will see data_distribution now \n",
        "data_distribution ={}\n",
        "for i in range(len(categories)):\n",
        "   count= data_[categories[i]][categories[i]].value_counts()\n",
        "   data_distribution[categories[i]] = count\n",
        "data_distribution"
      ],
      "metadata": {
        "colab": {
          "base_uri": "https://localhost:8080/"
        },
        "id": "-paccEdNQo50",
        "outputId": "88a97cff-3455-47b8-86f7-84d82c5553a4"
      },
      "execution_count": 23,
      "outputs": [
        {
          "output_type": "execute_result",
          "data": {
            "text/plain": [
              "{'Cardiomegaly': 1.0    883\n",
              " 0.0    883\n",
              " Name: Cardiomegaly, dtype: int64, 'Lung Lesion': 1.0    971\n",
              " 0.0    971\n",
              " Name: Lung Lesion, dtype: int64, 'Airspace Opacity': 1.0    567\n",
              " 0.0    567\n",
              " Name: Airspace Opacity, dtype: int64, 'Edema': 1.0    807\n",
              " 0.0    807\n",
              " Name: Edema, dtype: int64, 'Consolidation': 1.0    943\n",
              " 0.0    943\n",
              " Name: Consolidation, dtype: int64, 'Pneumonia': 1.0    971\n",
              " 0.0    971\n",
              " Name: Pneumonia, dtype: int64, 'Atelectasis': 1.0    856\n",
              " 0.0    856\n",
              " Name: Atelectasis, dtype: int64, 'Pneumothorax': 1.0    953\n",
              " 0.0    953\n",
              " Name: Pneumothorax, dtype: int64, 'Pleural Effusion': 1.0    698\n",
              " 0.0    698\n",
              " Name: Pleural Effusion, dtype: int64, 'Pleural Other': 1.0    971\n",
              " 0.0    971\n",
              " Name: Pleural Other, dtype: int64, 'Fracture': 1.0    958\n",
              " 0.0    958\n",
              " Name: Fracture, dtype: int64}"
            ]
          },
          "metadata": {},
          "execution_count": 23
        }
      ]
    },
    {
      "cell_type": "code",
      "source": [
        "# so the data now is balanced"
      ],
      "metadata": {
        "id": "atGkErTnQ6xP"
      },
      "execution_count": 163,
      "outputs": []
    },
    {
      "cell_type": "code",
      "source": [
        "for i in range(len(data_)):\n",
        "   x_ = data_[categories[i]]['Report Impression']\n",
        "   y_ = data_[categories[i]][categories[i]]\n",
        "   data_[categories[i]] = (x_ , y_)"
      ],
      "metadata": {
        "id": "xQAjIveyIu3I"
      },
      "execution_count": 24,
      "outputs": []
    },
    {
      "cell_type": "code",
      "source": [
        "print(data_['Edema'][0].shape)\n",
        "print(data_['Edema'][1].shape)"
      ],
      "metadata": {
        "colab": {
          "base_uri": "https://localhost:8080/"
        },
        "id": "0Hm3tQaUR1Lw",
        "outputId": "5835d78e-9a68-43b4-c8d8-20c8848a67d8"
      },
      "execution_count": 25,
      "outputs": [
        {
          "output_type": "stream",
          "name": "stdout",
          "text": [
            "(1614,)\n",
            "(1614,)\n"
          ]
        }
      ]
    },
    {
      "cell_type": "code",
      "source": [
        "# we will do some data preprocessing "
      ],
      "metadata": {
        "id": "8vhsUxvCJLiS"
      },
      "execution_count": 94,
      "outputs": []
    },
    {
      "cell_type": "code",
      "source": [
        "print(data_['Edema'][0][0])"
      ],
      "metadata": {
        "colab": {
          "base_uri": "https://localhost:8080/"
        },
        "id": "UPDCsYEDJQOx",
        "outputId": "429205b5-105d-4f1f-e638-aeba9560263c"
      },
      "execution_count": 26,
      "outputs": [
        {
          "output_type": "stream",
          "name": "stdout",
          "text": [
            "\n",
            " \n",
            "1.  single frontal view of the chest demonstrates a right ij central \n",
            "venous catheter in place with tip in upper right atrium.\n",
            " \n",
            "2.  there is moderate cardiomegaly.\n",
            " \n",
            "3.  lung volumes are low with a diffuse reticular pattern throughout \n",
            "the bilateral lung zones with more confluent left greater than right \n",
            "bibasilar air space opacities and small left greater than right \n",
            "bilateral pleural effusions. findings are suggestive of mild \n",
            "pulmonary edema with bibasilar atelectasis.\n",
            " \n",
            "\n"
          ]
        }
      ]
    },
    {
      "cell_type": "code",
      "source": [
        "def data_preprocessing(data_):\n",
        "  data_pre = {}\n",
        "  ps = PorterStemmer()\n",
        "  for j in range(len(data_)):\n",
        "     data = data_[categories[j]][0]\n",
        "     courps =[]\n",
        "     for i in range(len(data)) :\n",
        "       report = re.sub('[^a-zA-Z]', ' ', data[i])\n",
        "       report = report.lower()\n",
        "       report = report.split()\n",
        "       report = [ps.stem(i) for i in report]\n",
        "       report = ' '.join(report)\n",
        "       courps.append(report)\n",
        "     courps = np.array(courps)\n",
        "     data_pre[categories[j]] = courps\n",
        "  return data_pre"
      ],
      "metadata": {
        "id": "XcZuOPFcJRDj"
      },
      "execution_count": 30,
      "outputs": []
    },
    {
      "cell_type": "code",
      "source": [
        "data_pre = data_preprocessing(data_)"
      ],
      "metadata": {
        "id": "82Y03ZLzMS4J"
      },
      "execution_count": 31,
      "outputs": []
    },
    {
      "cell_type": "code",
      "source": [
        "data_pre['Edema'][1]"
      ],
      "metadata": {
        "colab": {
          "base_uri": "https://localhost:8080/",
          "height": 36
        },
        "id": "HhV-fnZXMWPb",
        "outputId": "c7bc4724-78b6-4eab-d7b9-5587aa4f0455"
      },
      "execution_count": 32,
      "outputs": [
        {
          "output_type": "execute_result",
          "data": {
            "text/plain": [
              "'cardiomegali with small effus and worsen edema'"
            ],
            "application/vnd.google.colaboratory.intrinsic+json": {
              "type": "string"
            }
          },
          "metadata": {},
          "execution_count": 32
        }
      ]
    },
    {
      "cell_type": "code",
      "source": [
        "voc_size = 1500"
      ],
      "metadata": {
        "id": "Khonw9J7MnGT"
      },
      "execution_count": 34,
      "outputs": []
    },
    {
      "cell_type": "code",
      "source": [
        "onehot_dic ={}\n",
        "for i in range(len(data_pre)):\n",
        "  list__= data_pre[categories[i]]\n",
        "  onehot = [one_hot(word , voc_size) for word in list__ ]\n",
        "  onehot_dic[categories[i]] = onehot"
      ],
      "metadata": {
        "id": "rLuOH_5hEgxa"
      },
      "execution_count": 36,
      "outputs": []
    },
    {
      "cell_type": "code",
      "source": [
        "print(len(onehot[0]))\n",
        "print(onehot[0])"
      ],
      "metadata": {
        "colab": {
          "base_uri": "https://localhost:8080/"
        },
        "id": "N-ATDFwhEnlN",
        "outputId": "61732efd-e730-41df-8dd7-74354e929070"
      },
      "execution_count": 37,
      "outputs": [
        {
          "output_type": "stream",
          "name": "stdout",
          "text": [
            "50\n",
            "[547, 1154, 247, 691, 1171, 1116, 154, 1134, 847, 380, 258, 353, 1272, 676, 1033, 562, 1290, 84, 932, 1141, 722, 1058, 591, 380, 611, 367, 73, 811, 1342, 1141, 1456, 867, 1456, 380, 72, 835, 1330, 681, 1141, 388, 1171, 1116, 154, 1208, 722, 813, 383, 763, 1247, 522]\n"
          ]
        }
      ]
    },
    {
      "cell_type": "code",
      "source": [
        "max_lenght =181\n",
        "embedded_docs_dic ={}\n",
        "for i in range(len(categories)):\n",
        "  embedded_docs=pad_sequences(onehot_dic[categories[i]],padding='post',maxlen=max_lenght)\n",
        "  embedded_docs_dic[categories[i]] = embedded_docs"
      ],
      "metadata": {
        "id": "CcXUyWG9Ev-8"
      },
      "execution_count": 38,
      "outputs": []
    },
    {
      "cell_type": "code",
      "source": [
        "from sklearn.model_selection import train_test_split\n",
        "x_y_dic = {}\n",
        "for i in range(len(categories)):\n",
        "  X_final=np.asarray(embedded_docs_dic[categories[i]]).astype(np.float32)\n",
        "  y_final=np.asarray(data_[categories[i]][1])\n",
        "  X_train, X_test, y_train, y_test = train_test_split(X_final, y_final, test_size=0.2, random_state=42)\n",
        "  x_y_dic[categories[i]] = [X_train, X_test, y_train, y_test]"
      ],
      "metadata": {
        "id": "YtZVIAdneSNm"
      },
      "execution_count": 40,
      "outputs": []
    },
    {
      "cell_type": "markdown",
      "source": [
        "4 - train the model"
      ],
      "metadata": {
        "id": "6L7ecPPqPjiV"
      }
    },
    {
      "cell_type": "code",
      "source": [
        "def train_model(embedding_vector_features ,X_train,y_train,X_test,y_test ):\n",
        "    model1=Sequential()\n",
        "    model1.add(Embedding(voc_size,embedding_vector_features,input_length=max_lenght))\n",
        "    model1.add(Bidirectional(LSTM(100)))\n",
        "    model1.add(keras.layers.Dropout(0.3))\n",
        "    model1.add(Dense(1,activation='sigmoid'))\n",
        "    model1.compile(loss='binary_crossentropy',optimizer='adam',metrics=['accuracy'])\n",
        "    history = model1.fit(X_train,y_train,validation_data=(X_test,y_test),epochs=5,batch_size=64)  \n",
        "    return model1 , history"
      ],
      "metadata": {
        "id": "vlZHVRJZfL1O"
      },
      "execution_count": 41,
      "outputs": []
    },
    {
      "cell_type": "code",
      "source": [
        "def train_each_model_alone():\n",
        "  models = {}\n",
        "  histories ={}\n",
        "  for i in range(len(categories)):\n",
        "    X_train = x_y_dic[categories[i]][0]\n",
        "    y_train = x_y_dic[categories[i]][2]\n",
        "    X_test = x_y_dic[categories[i]][1]\n",
        "    y_test = x_y_dic[categories[i]][3]\n",
        "    embedding_vector_features=40\n",
        "    model1 , history = train_model(embedding_vector_features ,X_train,y_train,X_test,y_test )\n",
        "    models[categories[i]] = model1\n",
        "    histories[categories[i]] = history\n",
        "  return models , histories"
      ],
      "metadata": {
        "id": "0arwdtfjLCJD"
      },
      "execution_count": 42,
      "outputs": []
    },
    {
      "cell_type": "code",
      "source": [
        "models , histories = train_each_model_alone()"
      ],
      "metadata": {
        "colab": {
          "base_uri": "https://localhost:8080/"
        },
        "id": "a_1C9ko8MtsX",
        "outputId": "dcd2f9d6-2739-4072-eee3-e5e90bd25c45"
      },
      "execution_count": 43,
      "outputs": [
        {
          "output_type": "stream",
          "name": "stdout",
          "text": [
            "Epoch 1/7\n",
            "23/23 [==============================] - 14s 418ms/step - loss: 0.6860 - accuracy: 0.5800 - val_loss: 0.6583 - val_accuracy: 0.6328\n",
            "Epoch 2/7\n",
            "23/23 [==============================] - 8s 370ms/step - loss: 0.6100 - accuracy: 0.7195 - val_loss: 0.5623 - val_accuracy: 0.7232\n",
            "Epoch 3/7\n",
            "23/23 [==============================] - 8s 368ms/step - loss: 0.4973 - accuracy: 0.7996 - val_loss: 0.5157 - val_accuracy: 0.7514\n",
            "Epoch 4/7\n",
            "23/23 [==============================] - 8s 366ms/step - loss: 0.3749 - accuracy: 0.8562 - val_loss: 0.4753 - val_accuracy: 0.7825\n",
            "Epoch 5/7\n",
            "23/23 [==============================] - 8s 367ms/step - loss: 0.3246 - accuracy: 0.8789 - val_loss: 0.3931 - val_accuracy: 0.8644\n",
            "Epoch 6/7\n",
            "23/23 [==============================] - 8s 366ms/step - loss: 0.2408 - accuracy: 0.9235 - val_loss: 0.3749 - val_accuracy: 0.8616\n",
            "Epoch 7/7\n",
            "23/23 [==============================] - 8s 366ms/step - loss: 0.1776 - accuracy: 0.9483 - val_loss: 0.2863 - val_accuracy: 0.8785\n",
            "Epoch 1/7\n",
            "25/25 [==============================] - 14s 410ms/step - loss: 0.6380 - accuracy: 0.7147 - val_loss: 0.4771 - val_accuracy: 0.8201\n",
            "Epoch 2/7\n",
            "25/25 [==============================] - 10s 421ms/step - loss: 0.2593 - accuracy: 0.9189 - val_loss: 0.0776 - val_accuracy: 0.9820\n",
            "Epoch 3/7\n",
            "25/25 [==============================] - 9s 371ms/step - loss: 0.5475 - accuracy: 0.8210 - val_loss: 0.2900 - val_accuracy: 0.9177\n",
            "Epoch 4/7\n",
            "25/25 [==============================] - 9s 371ms/step - loss: 0.1599 - accuracy: 0.9672 - val_loss: 0.0822 - val_accuracy: 0.9846\n",
            "Epoch 5/7\n",
            "25/25 [==============================] - 9s 374ms/step - loss: 0.1302 - accuracy: 0.9594 - val_loss: 0.0929 - val_accuracy: 0.9846\n",
            "Epoch 6/7\n",
            "25/25 [==============================] - 9s 375ms/step - loss: 0.0650 - accuracy: 0.9987 - val_loss: 0.0443 - val_accuracy: 0.9949\n",
            "Epoch 7/7\n",
            "25/25 [==============================] - 9s 372ms/step - loss: 0.0281 - accuracy: 0.9994 - val_loss: 0.0172 - val_accuracy: 1.0000\n",
            "Epoch 1/7\n",
            "15/15 [==============================] - 11s 466ms/step - loss: 0.6859 - accuracy: 0.5689 - val_loss: 0.6808 - val_accuracy: 0.5022\n",
            "Epoch 2/7\n",
            "15/15 [==============================] - 6s 372ms/step - loss: 0.6716 - accuracy: 0.6847 - val_loss: 0.6577 - val_accuracy: 0.7665\n",
            "Epoch 3/7\n",
            "15/15 [==============================] - 6s 373ms/step - loss: 0.5994 - accuracy: 0.7574 - val_loss: 0.5061 - val_accuracy: 0.7489\n",
            "Epoch 4/7\n",
            "15/15 [==============================] - 6s 379ms/step - loss: 0.4393 - accuracy: 0.8082 - val_loss: 0.3986 - val_accuracy: 0.8150\n",
            "Epoch 5/7\n",
            "15/15 [==============================] - 6s 370ms/step - loss: 0.3074 - accuracy: 0.8886 - val_loss: 0.2284 - val_accuracy: 0.9339\n",
            "Epoch 6/7\n",
            "15/15 [==============================] - 6s 373ms/step - loss: 0.2478 - accuracy: 0.9063 - val_loss: 0.2097 - val_accuracy: 0.9383\n",
            "Epoch 7/7\n",
            "15/15 [==============================] - 6s 374ms/step - loss: 0.1637 - accuracy: 0.9559 - val_loss: 0.1382 - val_accuracy: 0.9604\n",
            "Epoch 1/7\n",
            "21/21 [==============================] - 13s 421ms/step - loss: 0.6869 - accuracy: 0.5252 - val_loss: 0.6569 - val_accuracy: 0.7028\n",
            "Epoch 2/7\n",
            "21/21 [==============================] - 8s 368ms/step - loss: 0.7589 - accuracy: 0.6871 - val_loss: 0.5842 - val_accuracy: 0.7337\n",
            "Epoch 3/7\n",
            "21/21 [==============================] - 8s 366ms/step - loss: 0.5977 - accuracy: 0.7033 - val_loss: 0.6075 - val_accuracy: 0.7121\n",
            "Epoch 4/7\n",
            "21/21 [==============================] - 8s 369ms/step - loss: 0.5708 - accuracy: 0.7436 - val_loss: 0.5577 - val_accuracy: 0.7926\n",
            "Epoch 5/7\n",
            "21/21 [==============================] - 9s 428ms/step - loss: 0.4846 - accuracy: 0.8242 - val_loss: 0.4018 - val_accuracy: 0.8421\n",
            "Epoch 6/7\n",
            "21/21 [==============================] - 8s 367ms/step - loss: 0.3601 - accuracy: 0.8637 - val_loss: 0.3176 - val_accuracy: 0.8793\n",
            "Epoch 7/7\n",
            "21/21 [==============================] - 8s 366ms/step - loss: 0.2582 - accuracy: 0.9194 - val_loss: 0.2307 - val_accuracy: 0.9102\n",
            "Epoch 1/7\n",
            "24/24 [==============================] - 14s 417ms/step - loss: 0.6717 - accuracy: 0.6273 - val_loss: 0.6139 - val_accuracy: 0.7937\n",
            "Epoch 2/7\n",
            "24/24 [==============================] - 9s 372ms/step - loss: 0.5212 - accuracy: 0.8064 - val_loss: 0.5177 - val_accuracy: 0.7804\n",
            "Epoch 3/7\n",
            "24/24 [==============================] - 9s 375ms/step - loss: 0.9019 - accuracy: 0.6306 - val_loss: 0.6750 - val_accuracy: 0.4947\n",
            "Epoch 4/7\n",
            "24/24 [==============================] - 9s 371ms/step - loss: 0.6476 - accuracy: 0.6141 - val_loss: 0.5533 - val_accuracy: 0.8307\n",
            "Epoch 5/7\n",
            "24/24 [==============================] - 9s 366ms/step - loss: 0.3954 - accuracy: 0.8408 - val_loss: 0.2916 - val_accuracy: 0.9048\n",
            "Epoch 6/7\n",
            "24/24 [==============================] - 9s 367ms/step - loss: 0.2370 - accuracy: 0.9317 - val_loss: 0.2009 - val_accuracy: 0.9392\n",
            "Epoch 7/7\n",
            "24/24 [==============================] - 9s 368ms/step - loss: 0.1356 - accuracy: 0.9655 - val_loss: 0.1032 - val_accuracy: 0.9762\n",
            "Epoch 1/7\n",
            "25/25 [==============================] - 15s 406ms/step - loss: 0.6557 - accuracy: 0.6780 - val_loss: 0.5973 - val_accuracy: 0.6735\n",
            "Epoch 2/7\n",
            "25/25 [==============================] - 9s 366ms/step - loss: 0.3629 - accuracy: 0.9111 - val_loss: 0.2818 - val_accuracy: 0.9383\n",
            "Epoch 3/7\n",
            "25/25 [==============================] - 9s 366ms/step - loss: 0.1789 - accuracy: 0.9652 - val_loss: 0.1150 - val_accuracy: 0.9589\n",
            "Epoch 4/7\n",
            "25/25 [==============================] - 9s 369ms/step - loss: 0.0565 - accuracy: 0.9871 - val_loss: 0.0531 - val_accuracy: 0.9871\n",
            "Epoch 5/7\n",
            "25/25 [==============================] - 10s 398ms/step - loss: 0.0708 - accuracy: 0.9749 - val_loss: 0.3187 - val_accuracy: 0.8560\n",
            "Epoch 6/7\n",
            "25/25 [==============================] - 9s 365ms/step - loss: 0.2332 - accuracy: 0.9292 - val_loss: 0.1130 - val_accuracy: 0.9820\n",
            "Epoch 7/7\n",
            "25/25 [==============================] - 9s 365ms/step - loss: 0.0918 - accuracy: 0.9794 - val_loss: 0.0650 - val_accuracy: 0.9846\n",
            "Epoch 1/7\n",
            "22/22 [==============================] - 14s 425ms/step - loss: 0.6899 - accuracy: 0.5362 - val_loss: 0.6809 - val_accuracy: 0.5860\n",
            "Epoch 2/7\n",
            "22/22 [==============================] - 8s 381ms/step - loss: 0.6388 - accuracy: 0.6545 - val_loss: 0.5799 - val_accuracy: 0.6822\n",
            "Epoch 3/7\n",
            "22/22 [==============================] - 8s 375ms/step - loss: 0.4870 - accuracy: 0.7677 - val_loss: 0.4753 - val_accuracy: 0.8017\n",
            "Epoch 4/7\n",
            "22/22 [==============================] - 8s 378ms/step - loss: 0.2639 - accuracy: 0.9160 - val_loss: 0.2183 - val_accuracy: 0.9563\n",
            "Epoch 5/7\n",
            "22/22 [==============================] - 8s 376ms/step - loss: 0.5985 - accuracy: 0.7655 - val_loss: 0.3472 - val_accuracy: 0.8746\n",
            "Epoch 6/7\n",
            "22/22 [==============================] - 8s 373ms/step - loss: 0.1903 - accuracy: 0.9518 - val_loss: 0.1512 - val_accuracy: 0.9534\n",
            "Epoch 7/7\n",
            "22/22 [==============================] - 8s 381ms/step - loss: 0.0786 - accuracy: 0.9847 - val_loss: 0.0963 - val_accuracy: 0.9621\n",
            "Epoch 1/7\n",
            "24/24 [==============================] - 16s 461ms/step - loss: 0.6789 - accuracy: 0.5945 - val_loss: 0.6154 - val_accuracy: 0.6859\n",
            "Epoch 2/7\n",
            "24/24 [==============================] - 10s 413ms/step - loss: 0.4450 - accuracy: 0.8255 - val_loss: 0.4440 - val_accuracy: 0.7644\n",
            "Epoch 3/7\n",
            "24/24 [==============================] - 11s 449ms/step - loss: 0.4877 - accuracy: 0.7808 - val_loss: 0.4330 - val_accuracy: 0.8717\n",
            "Epoch 4/7\n",
            "24/24 [==============================] - 10s 415ms/step - loss: 0.3539 - accuracy: 0.8904 - val_loss: 0.2753 - val_accuracy: 0.9005\n",
            "Epoch 5/7\n",
            "24/24 [==============================] - 10s 412ms/step - loss: 0.2649 - accuracy: 0.9278 - val_loss: 0.1966 - val_accuracy: 0.9450\n",
            "Epoch 6/7\n",
            "24/24 [==============================] - 10s 413ms/step - loss: 0.1450 - accuracy: 0.9639 - val_loss: 0.1080 - val_accuracy: 0.9581\n",
            "Epoch 7/7\n",
            "24/24 [==============================] - 10s 418ms/step - loss: 0.0848 - accuracy: 0.9823 - val_loss: 0.0731 - val_accuracy: 0.9869\n",
            "Epoch 1/7\n",
            "18/18 [==============================] - 13s 485ms/step - loss: 0.6914 - accuracy: 0.5009 - val_loss: 0.6779 - val_accuracy: 0.4750\n",
            "Epoch 2/7\n",
            "18/18 [==============================] - 7s 418ms/step - loss: 0.6201 - accuracy: 0.6846 - val_loss: 0.5603 - val_accuracy: 0.7250\n",
            "Epoch 3/7\n",
            "18/18 [==============================] - 7s 414ms/step - loss: 0.4629 - accuracy: 0.7876 - val_loss: 0.3813 - val_accuracy: 0.8536\n",
            "Epoch 4/7\n",
            "18/18 [==============================] - 7s 416ms/step - loss: 0.2742 - accuracy: 0.9086 - val_loss: 0.2475 - val_accuracy: 0.9214\n",
            "Epoch 5/7\n",
            "18/18 [==============================] - 7s 414ms/step - loss: 0.1860 - accuracy: 0.9498 - val_loss: 0.2257 - val_accuracy: 0.9321\n",
            "Epoch 6/7\n",
            "18/18 [==============================] - 7s 414ms/step - loss: 0.1408 - accuracy: 0.9624 - val_loss: 0.2801 - val_accuracy: 0.9286\n",
            "Epoch 7/7\n",
            "18/18 [==============================] - 7s 413ms/step - loss: 0.2846 - accuracy: 0.9194 - val_loss: 0.2179 - val_accuracy: 0.9500\n",
            "Epoch 1/7\n",
            "25/25 [==============================] - 16s 460ms/step - loss: 0.6637 - accuracy: 0.6059 - val_loss: 0.5715 - val_accuracy: 0.6992\n",
            "Epoch 2/7\n",
            "25/25 [==============================] - 10s 414ms/step - loss: 0.3686 - accuracy: 0.8603 - val_loss: 0.1587 - val_accuracy: 0.9794\n",
            "Epoch 3/7\n",
            "25/25 [==============================] - 10s 415ms/step - loss: 0.0792 - accuracy: 0.9858 - val_loss: 0.0908 - val_accuracy: 0.9769\n",
            "Epoch 4/7\n",
            "25/25 [==============================] - 10s 413ms/step - loss: 0.0295 - accuracy: 0.9948 - val_loss: 0.0139 - val_accuracy: 1.0000\n",
            "Epoch 5/7\n",
            "25/25 [==============================] - 10s 410ms/step - loss: 0.0076 - accuracy: 1.0000 - val_loss: 0.0218 - val_accuracy: 0.9974\n",
            "Epoch 6/7\n",
            "25/25 [==============================] - 10s 410ms/step - loss: 0.0029 - accuracy: 1.0000 - val_loss: 0.0197 - val_accuracy: 0.9974\n",
            "Epoch 7/7\n",
            "25/25 [==============================] - 10s 410ms/step - loss: 0.0020 - accuracy: 1.0000 - val_loss: 0.0201 - val_accuracy: 0.9974\n",
            "Epoch 1/7\n",
            "24/24 [==============================] - 16s 504ms/step - loss: 0.6828 - accuracy: 0.5770 - val_loss: 0.6487 - val_accuracy: 0.8516\n",
            "Epoch 2/7\n",
            "24/24 [==============================] - 10s 421ms/step - loss: 0.4966 - accuracy: 0.8433 - val_loss: 0.3107 - val_accuracy: 0.9089\n",
            "Epoch 3/7\n",
            "24/24 [==============================] - 10s 424ms/step - loss: 0.1480 - accuracy: 0.9648 - val_loss: 0.1683 - val_accuracy: 0.9401\n",
            "Epoch 4/7\n",
            "24/24 [==============================] - 10s 424ms/step - loss: 0.0601 - accuracy: 0.9856 - val_loss: 0.0529 - val_accuracy: 0.9792\n",
            "Epoch 5/7\n",
            "24/24 [==============================] - 11s 460ms/step - loss: 0.1415 - accuracy: 0.9778 - val_loss: 0.0808 - val_accuracy: 0.9948\n",
            "Epoch 6/7\n",
            "24/24 [==============================] - 10s 424ms/step - loss: 0.1179 - accuracy: 0.9615 - val_loss: 0.3125 - val_accuracy: 0.8490\n",
            "Epoch 7/7\n",
            "24/24 [==============================] - 10s 423ms/step - loss: 0.2305 - accuracy: 0.9289 - val_loss: 0.1768 - val_accuracy: 0.9714\n"
          ]
        }
      ]
    },
    {
      "cell_type": "markdown",
      "source": [
        "5 - we will compute score for each model"
      ],
      "metadata": {
        "id": "k55-0zWyQAo2"
      }
    },
    {
      "cell_type": "code",
      "source": [
        "def score(models ):\n",
        "  scores = []\n",
        "  for i in range(len(categories)):\n",
        "      X_test_ = x_y_dic[categories[i]][1]\n",
        "      y_test_ = x_y_dic[categories[i]][3]\n",
        "      score = models[categories[i]].evaluate(X_test_ , y_test_)[1]\n",
        "      scores.append(score)\n",
        "  return np.array(scores) "
      ],
      "metadata": {
        "id": "zghqcaLdP0P8"
      },
      "execution_count": 48,
      "outputs": []
    },
    {
      "cell_type": "code",
      "source": [
        "scores = score(models)"
      ],
      "metadata": {
        "colab": {
          "base_uri": "https://localhost:8080/"
        },
        "id": "ILUzUAvEQO3F",
        "outputId": "b11dc6a5-3b3b-4a26-e607-d4d1f9f13997"
      },
      "execution_count": 49,
      "outputs": [
        {
          "output_type": "stream",
          "name": "stdout",
          "text": [
            "12/12 [==============================] - 1s 111ms/step - loss: 0.2863 - accuracy: 0.8785\n",
            "13/13 [==============================] - 1s 110ms/step - loss: 0.0172 - accuracy: 1.0000\n",
            "8/8 [==============================] - 0s 55ms/step - loss: 0.1382 - accuracy: 0.9604\n",
            "11/11 [==============================] - 1s 59ms/step - loss: 0.2307 - accuracy: 0.9102\n",
            "12/12 [==============================] - 1s 62ms/step - loss: 0.1032 - accuracy: 0.9762\n",
            "13/13 [==============================] - 1s 58ms/step - loss: 0.0650 - accuracy: 0.9846\n",
            "11/11 [==============================] - 1s 64ms/step - loss: 0.0963 - accuracy: 0.9621\n",
            "12/12 [==============================] - 1s 60ms/step - loss: 0.0731 - accuracy: 0.9869\n",
            "9/9 [==============================] - 1s 57ms/step - loss: 0.2179 - accuracy: 0.9500\n",
            "13/13 [==============================] - 1s 56ms/step - loss: 0.0201 - accuracy: 0.9974\n",
            "12/12 [==============================] - 1s 61ms/step - loss: 0.1768 - accuracy: 0.9714\n"
          ]
        }
      ]
    },
    {
      "cell_type": "code",
      "source": [
        "# we will compute mean score of all models\n",
        "mean_score = scores.sum() / len(scores)\n",
        "print(mean_score)"
      ],
      "metadata": {
        "colab": {
          "base_uri": "https://localhost:8080/"
        },
        "id": "2hI91d1QQjLo",
        "outputId": "f17f4391-8e61-41e7-c756-9cb57ec42730"
      },
      "execution_count": 50,
      "outputs": [
        {
          "output_type": "stream",
          "name": "stdout",
          "text": [
            "0.9616054621609774\n"
          ]
        }
      ]
    },
    {
      "cell_type": "markdown",
      "source": [
        "6 - we will predict in all the models , confusion matrix and \n",
        " classification report"
      ],
      "metadata": {
        "id": "ynuirKJTRd6F"
      }
    },
    {
      "cell_type": "code",
      "source": [
        "def predict(models , data) :\n",
        "  predictions_dic ={}\n",
        "  for i in categories :\n",
        "     model = models[i]\n",
        "     prediction = model.predict(data[i][1])\n",
        "     prediction =  np.where( prediction >0.5 , 1,0)\n",
        "     predictions_dic[i] = prediction  \n",
        "  return predictions_dic"
      ],
      "metadata": {
        "id": "7QmHrWMhRdJ4"
      },
      "execution_count": 52,
      "outputs": []
    },
    {
      "cell_type": "code",
      "source": [
        "predictions = predict(models , x_y_dic)"
      ],
      "metadata": {
        "id": "8wkrOuRGRp6S"
      },
      "execution_count": 53,
      "outputs": []
    },
    {
      "cell_type": "code",
      "source": [
        "from sklearn.metrics import confusion_matrix\n",
        "def compute_confusion_matrix(models ,data):\n",
        "   matrixs = []\n",
        "   for i in range(len(categories)):\n",
        "      confusion_ = confusion_matrix(data[categories[i]][3] , predictions[categories[i]])\n",
        "      matrixs.append(confusion_)\n",
        "   return np.array(matrixs)   \n",
        "    "
      ],
      "metadata": {
        "id": "qHJksS6gRzAp"
      },
      "execution_count": 54,
      "outputs": []
    },
    {
      "cell_type": "code",
      "source": [
        "matrixs = compute_confusion_matrix(models,x_y_dic )"
      ],
      "metadata": {
        "id": "hv_bI_6XTX5a"
      },
      "execution_count": 57,
      "outputs": []
    },
    {
      "cell_type": "code",
      "source": [
        "from matplotlib import pyplot as plt\n",
        "import seaborn as sn\n",
        "for i in range(len(matrixs)) :\n",
        "   sn.heatmap(matrixs[i], annot=True, fmt='d')\n",
        "   plt.show()"
      ],
      "metadata": {
        "colab": {
          "base_uri": "https://localhost:8080/",
          "height": 1000
        },
        "id": "9WQ-dVaVTlpB",
        "outputId": "efbb4227-84c7-4c22-bfbc-7ee02cb16c22"
      },
      "execution_count": 58,
      "outputs": [
        {
          "output_type": "display_data",
          "data": {
            "text/plain": [
              "<Figure size 432x288 with 2 Axes>"
            ],
            "image/png": "[encoded data removed]"
          },
          "metadata": {
            "needs_background": "light"
          }
        },
        {
          "output_type": "display_data",
          "data": {
            "text/plain": [
              "<Figure size 432x288 with 2 Axes>"
            ],
            "image/png": "[encoded data removed]"
          },
          "metadata": {
            "needs_background": "light"
          }
        },
        {
          "output_type": "display_data",
          "data": {
            "text/plain": [
              "<Figure size 432x288 with 2 Axes>"
            ],
            "image/png": "[encoded data removed]"
          },
          "metadata": {
            "needs_background": "light"
          }
        },
        {
          "output_type": "display_data",
          "data": {
            "text/plain": [
              "<Figure size 432x288 with 2 Axes>"
            ],
            "image/png": "[encoded data removed]"
          },
          "metadata": {
            "needs_background": "light"
          }
        },
        {
          "output_type": "display_data",
          "data": {
            "text/plain": [
              "<Figure size 432x288 with 2 Axes>"
            ],
            "image/png": "[encoded data removed]"
          },
          "metadata": {
            "needs_background": "light"
          }
        },
        {
          "output_type": "display_data",
          "data": {
            "text/plain": [
              "<Figure size 432x288 with 2 Axes>"
            ],
            "image/png": "[encoded data removed]"
          },
          "metadata": {
            "needs_background": "light"
          }
        },
        {
          "output_type": "display_data",
          "data": {
            "text/plain": [
              "<Figure size 432x288 with 2 Axes>"
            ],
            "image/png": "[encoded data removed]"
          },
          "metadata": {
            "needs_background": "light"
          }
        },
        {
          "output_type": "display_data",
          "data": {
            "text/plain": [
              "<Figure size 432x288 with 2 Axes>"
            ],
            "image/png": "[encoded data removed]"
          },
          "metadata": {
            "needs_background": "light"
          }
        },
        {
          "output_type": "display_data",
          "data": {
            "text/plain": [
              "<Figure size 432x288 with 2 Axes>"
            ],
            "image/png": "[encoded data removed]"
          },
          "metadata": {
            "needs_background": "light"
          }
        },
        {
          "output_type": "display_data",
          "data": {
            "text/plain": [
              "<Figure size 432x288 with 2 Axes>"
            ],
            "image/png": "[encoded data removed]"
          },
          "metadata": {
            "needs_background": "light"
          }
        },
        {
          "output_type": "display_data",
          "data": {
            "text/plain": [
              "<Figure size 432x288 with 2 Axes>"
            ],
            "image/png": "[encoded data removed]"
          },
          "metadata": {
            "needs_background": "light"
          }
        }
      ]
    },
    {
      "cell_type": "code",
      "source": [
        "from sklearn.metrics import classification_report\n",
        "def compute_classification_report(models,data):\n",
        "   reports = []\n",
        "   for i in range(len(categories)): \n",
        "      report_ = classification_report(data[categories[i]][3] , predictions[categories[i]])\n",
        "      reports.append(report_)\n",
        "   return np.array(reports) "
      ],
      "metadata": {
        "id": "jjW6Huv3UXLt"
      },
      "execution_count": 59,
      "outputs": []
    },
    {
      "cell_type": "code",
      "source": [
        "reports = compute_classification_report(models , x_y_dic)\n",
        "for i in range(len(reports)) :\n",
        "   print(categories[i])\n",
        "   print(reports[i])"
      ],
      "metadata": {
        "colab": {
          "base_uri": "https://localhost:8080/"
        },
        "id": "vEO4O178U6xC",
        "outputId": "0371a37b-e6a5-4ad9-b2a7-dd0c649a7e37"
      },
      "execution_count": 61,
      "outputs": [
        {
          "output_type": "stream",
          "name": "stdout",
          "text": [
            "Cardiomegaly\n",
            "              precision    recall  f1-score   support\n",
            "\n",
            "         0.0       0.87      0.89      0.88       176\n",
            "         1.0       0.89      0.87      0.88       178\n",
            "\n",
            "    accuracy                           0.88       354\n",
            "   macro avg       0.88      0.88      0.88       354\n",
            "weighted avg       0.88      0.88      0.88       354\n",
            "\n",
            "Lung Lesion\n",
            "              precision    recall  f1-score   support\n",
            "\n",
            "         0.0       1.00      1.00      1.00       193\n",
            "         1.0       1.00      1.00      1.00       196\n",
            "\n",
            "    accuracy                           1.00       389\n",
            "   macro avg       1.00      1.00      1.00       389\n",
            "weighted avg       1.00      1.00      1.00       389\n",
            "\n",
            "Airspace Opacity\n",
            "              precision    recall  f1-score   support\n",
            "\n",
            "         0.0       0.95      0.96      0.95        96\n",
            "         1.0       0.97      0.96      0.97       131\n",
            "\n",
            "    accuracy                           0.96       227\n",
            "   macro avg       0.96      0.96      0.96       227\n",
            "weighted avg       0.96      0.96      0.96       227\n",
            "\n",
            "Edema\n",
            "              precision    recall  f1-score   support\n",
            "\n",
            "         0.0       0.95      0.86      0.90       154\n",
            "         1.0       0.88      0.96      0.92       169\n",
            "\n",
            "    accuracy                           0.91       323\n",
            "   macro avg       0.92      0.91      0.91       323\n",
            "weighted avg       0.91      0.91      0.91       323\n",
            "\n",
            "Consolidation\n",
            "              precision    recall  f1-score   support\n",
            "\n",
            "         0.0       1.00      0.95      0.98       187\n",
            "         1.0       0.95      1.00      0.98       191\n",
            "\n",
            "    accuracy                           0.98       378\n",
            "   macro avg       0.98      0.98      0.98       378\n",
            "weighted avg       0.98      0.98      0.98       378\n",
            "\n",
            "Pneumonia\n",
            "              precision    recall  f1-score   support\n",
            "\n",
            "         0.0       1.00      0.97      0.98       193\n",
            "         1.0       0.97      1.00      0.98       196\n",
            "\n",
            "    accuracy                           0.98       389\n",
            "   macro avg       0.99      0.98      0.98       389\n",
            "weighted avg       0.99      0.98      0.98       389\n",
            "\n",
            "Atelectasis\n",
            "              precision    recall  f1-score   support\n",
            "\n",
            "         0.0       0.93      0.99      0.96       168\n",
            "         1.0       0.99      0.93      0.96       175\n",
            "\n",
            "    accuracy                           0.96       343\n",
            "   macro avg       0.96      0.96      0.96       343\n",
            "weighted avg       0.96      0.96      0.96       343\n",
            "\n",
            "Pneumothorax\n",
            "              precision    recall  f1-score   support\n",
            "\n",
            "         0.0       1.00      0.97      0.99       194\n",
            "         1.0       0.97      1.00      0.99       188\n",
            "\n",
            "    accuracy                           0.99       382\n",
            "   macro avg       0.99      0.99      0.99       382\n",
            "weighted avg       0.99      0.99      0.99       382\n",
            "\n",
            "Pleural Effusion\n",
            "              precision    recall  f1-score   support\n",
            "\n",
            "         0.0       0.97      0.92      0.95       132\n",
            "         1.0       0.94      0.97      0.95       148\n",
            "\n",
            "    accuracy                           0.95       280\n",
            "   macro avg       0.95      0.95      0.95       280\n",
            "weighted avg       0.95      0.95      0.95       280\n",
            "\n",
            "Pleural Other\n",
            "              precision    recall  f1-score   support\n",
            "\n",
            "         0.0       1.00      0.99      1.00       193\n",
            "         1.0       0.99      1.00      1.00       196\n",
            "\n",
            "    accuracy                           1.00       389\n",
            "   macro avg       1.00      1.00      1.00       389\n",
            "weighted avg       1.00      1.00      1.00       389\n",
            "\n",
            "Fracture\n",
            "              precision    recall  f1-score   support\n",
            "\n",
            "         0.0       0.98      0.96      0.97       184\n",
            "         1.0       0.96      0.98      0.97       200\n",
            "\n",
            "    accuracy                           0.97       384\n",
            "   macro avg       0.97      0.97      0.97       384\n",
            "weighted avg       0.97      0.97      0.97       384\n",
            "\n"
          ]
        }
      ]
    },
    {
      "cell_type": "code",
      "source": [
        "def plot_accuracy(history) :\n",
        "  epochs = [i for i in range(7)]\n",
        "  fig , ax = plt.subplots(1,2)\n",
        "  train_acc = history.history['accuracy']\n",
        "  train_loss = history.history['loss']\n",
        "  val_acc = history.history['val_accuracy']\n",
        "  val_loss = history.history['val_loss']\n",
        "  fig.set_size_inches(20,10)\n",
        "  ax[0].plot(epochs , train_acc , 'go-' , label = 'Training Accuracy')\n",
        "  ax[0].plot(epochs , val_acc , 'ro-' , label = 'Validation Accuracy')\n",
        "  ax[0].set_title('Training & Validation Accuracy')\n",
        "  ax[0].legend()\n",
        "  ax[0].set_xlabel(\"Epochs\")\n",
        "  ax[0].set_ylabel(\"Accuracy\")\n",
        "  ax[1].plot(epochs , train_loss , 'g-o' , label = 'Training Loss')\n",
        "  ax[1].plot(epochs , val_loss , 'r-o' , label = 'Validation Loss')\n",
        "  ax[1].set_title('Testing Accuracy & Loss')\n",
        "  ax[1].legend()\n",
        "  ax[1].set_xlabel(\"Epochs\")\n",
        "  ax[1].set_ylabel(\"Training & Validation Loss\")\n",
        "  plt.show()"
      ],
      "metadata": {
        "id": "JhHniIMwsSCG"
      },
      "execution_count": 68,
      "outputs": []
    },
    {
      "cell_type": "code",
      "source": [
        "plot_accuracy(histories[categories[0]])"
      ],
      "metadata": {
        "colab": {
          "base_uri": "https://localhost:8080/",
          "height": 560
        },
        "id": "tJ4J6rJYt0xX",
        "outputId": "4e491ba4-bd6e-4612-d640-ab1be0c690b8"
      },
      "execution_count": 69,
      "outputs": [
        {
          "output_type": "display_data",
          "data": {
            "text/plain": [
              "<Figure size 1440x720 with 2 Axes>"
            ],
            "image/png": "[encoded data removed]"
          },
          "metadata": {
            "needs_background": "light"
          }
        }
      ]
    },
    {
      "cell_type": "markdown",
      "source": [
        "# as we see that method doing well in reports analysis"
      ],
      "metadata": {
        "id": "1ROgc1zHVq_A"
      }
    }
  ]
}